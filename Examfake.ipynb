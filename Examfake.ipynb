{
 "cells": [
  {
   "cell_type": "code",
   "execution_count": 16,
   "metadata": {},
   "outputs": [
    {
     "ename": "ImportError",
     "evalue": "cannot import name 'Problem3' from 'Examproblem' (/Users/nikolaslindgaard/projects-2024-mikkel-nikolas-4/Examproblem.py)",
     "output_type": "error",
     "traceback": [
      "\u001b[0;31m---------------------------------------------------------------------------\u001b[0m",
      "\u001b[0;31mImportError\u001b[0m                               Traceback (most recent call last)",
      "Cell \u001b[0;32mIn[16], line 3\u001b[0m\n\u001b[1;32m      1\u001b[0m \u001b[38;5;28;01mimport\u001b[39;00m \u001b[38;5;21;01mnumpy\u001b[39;00m \u001b[38;5;28;01mas\u001b[39;00m \u001b[38;5;21;01mnp\u001b[39;00m\n\u001b[1;32m      2\u001b[0m \u001b[38;5;28;01mimport\u001b[39;00m \u001b[38;5;21;01mmatplotlib\u001b[39;00m\u001b[38;5;21;01m.\u001b[39;00m\u001b[38;5;21;01mpyplot\u001b[39;00m \u001b[38;5;28;01mas\u001b[39;00m \u001b[38;5;21;01mplt\u001b[39;00m\n\u001b[0;32m----> 3\u001b[0m \u001b[38;5;28;01mfrom\u001b[39;00m \u001b[38;5;21;01mExamproblem\u001b[39;00m \u001b[38;5;28;01mimport\u001b[39;00m Problem3\n",
      "\u001b[0;31mImportError\u001b[0m: cannot import name 'Problem3' from 'Examproblem' (/Users/nikolaslindgaard/projects-2024-mikkel-nikolas-4/Examproblem.py)"
     ]
    }
   ],
   "source": [
    "import numpy as np\n",
    "import matplotlib.pyplot as plt\n",
    "from Examproblem import Problem3\n",
    "\n"
   ]
  },
  {
   "cell_type": "code",
   "execution_count": null,
   "metadata": {},
   "outputs": [
    {
     "ename": "ImportError",
     "evalue": "cannot import name 'Problem3' from 'Examproblem' (/Users/nikolaslindgaard/projects-2024-mikkel-nikolas-4/Examproblem.py)",
     "output_type": "error",
     "traceback": [
      "\u001b[0;31m---------------------------------------------------------------------------\u001b[0m",
      "\u001b[0;31mImportError\u001b[0m                               Traceback (most recent call last)",
      "Cell \u001b[0;32mIn[15], line 3\u001b[0m\n\u001b[1;32m      1\u001b[0m \u001b[38;5;28;01mimport\u001b[39;00m \u001b[38;5;21;01mnumpy\u001b[39;00m \u001b[38;5;28;01mas\u001b[39;00m \u001b[38;5;21;01mnp\u001b[39;00m\n\u001b[1;32m      2\u001b[0m \u001b[38;5;28;01mimport\u001b[39;00m \u001b[38;5;21;01mmatplotlib\u001b[39;00m\u001b[38;5;21;01m.\u001b[39;00m\u001b[38;5;21;01mpyplot\u001b[39;00m \u001b[38;5;28;01mas\u001b[39;00m \u001b[38;5;21;01mplt\u001b[39;00m\n\u001b[0;32m----> 3\u001b[0m \u001b[38;5;28;01mfrom\u001b[39;00m \u001b[38;5;21;01mExamproblem\u001b[39;00m \u001b[38;5;28;01mimport\u001b[39;00m Problem3  \u001b[38;5;66;03m# Ensure this matches the actual filename\u001b[39;00m\n\u001b[1;32m      5\u001b[0m model \u001b[38;5;241m=\u001b[39m Problem3()\n\u001b[1;32m      7\u001b[0m \u001b[38;5;66;03m# Generate random points and a target point\u001b[39;00m\n",
      "\u001b[0;31mImportError\u001b[0m: cannot import name 'Problem3' from 'Examproblem' (/Users/nikolaslindgaard/projects-2024-mikkel-nikolas-4/Examproblem.py)"
     ]
    }
   ],
   "source": [
    "import numpy as np\n",
    "import matplotlib.pyplot as plt\n",
    "from Examproblem import Problem3  # Ensure this matches the actual filename\n",
    "\n",
    "model = Problem3()\n",
    "\n",
    "# Generate random points and a target point\n",
    "rng = np.random.default_rng(2024)\n",
    "X = rng.uniform(size=(50, 2))  # 50 random points\n",
    "y = rng.uniform(size=(2,))     # Target point\n",
    "\n",
    "# Identify points A, B, C, and D based on specific conditions\n",
    "points = {\n",
    "    'A': model.find_closest_point(X, y, lambda pt, y: pt[0] > y[0] and pt[1] > y[1]),\n",
    "    'B': model.find_closest_point(X, y, lambda pt, y: pt[0] > y[0] and pt[1] < y[1]),\n",
    "    'C': model.find_closest_point(X, y, lambda pt, y: pt[0] < y[0] and pt[1] < y[1]),\n",
    "    'D': model.find_closest_point(X, y, lambda pt, y: pt[0] < y[0] and pt[1] > y[1])\n",
    "}\n",
    "\n",
    "# Calculate barycentric coordinates\n",
    "coords_abc = model.point_in_triangle(points['A'], points['B'], points['C'], y) if all(points.get(k) is not None for k in ['A', 'B', 'C']) else None\n",
    "coords_cda = model.point_in_triangle(points['C'], points['D'], points['A'], y) if all(points.get(k) is not None for k in ['C', 'D', 'A']) else None\n",
    "\n",
    "# Output point information\n",
    "print(\"Coordinates of points forming Triangle ABC:\", points['A'], points['B'], points['C'])\n",
    "print(\"Coordinates of points forming Triangle CDA:\", points['C'], points['D'], points['A'])\n",
    "\n",
    "if coords_abc:\n",
    "    print(\"Point y is inside Triangle ABC:\", coords_abc)\n",
    "else:\n",
    "    print(\"Point y is not inside Triangle ABC.\")\n",
    "\n",
    "if coords_cda:\n",
    "    print(\"Point y is inside Triangle CDA:\", coords_cda)\n",
    "else:\n",
    "    print(\"Point y is not inside Triangle CDA.\")\n",
    "\n",
    "# Plotting setup\n",
    "fig, ax = plt.subplots(figsize=(8, 8))\n",
    "ax.scatter(X[:, 0], X[:, 1], color='blue', label='Random Points')\n",
    "ax.scatter(y[0], y[1], color='red', label='Target Point y', s=100)\n",
    "for key, pt in points.items():\n",
    "    if pt is not None:\n",
    "        ax.scatter(pt[0], pt[1], label=f'Point {key}', s=100, edgecolors='black')\n",
    "\n",
    "# Draw triangles if all points are available\n",
    "if all(points.get(key) is not None for key in ['A', 'B', 'C']):\n",
    "    model.draw_triangle(ax, points, ['A', 'B', 'C'], 'green', 'Triangle ABC')\n",
    "if all(points.get(key) is not None for key in ['C', 'D', 'A']):\n",
    "    model.draw_triangle(ax, points, ['C', 'D', 'A'], 'orange', 'Triangle CDA')\n",
    "\n",
    "ax.set_xlim(0, 1)\n",
    "ax.set_ylim(0, 1)\n",
    "ax.set_title(\"Barycentric Interpolation Setup\")\n",
    "ax.legend()\n",
    "plt.show()\n"
   ]
  }
 ],
 "metadata": {
  "kernelspec": {
   "display_name": "base",
   "language": "python",
   "name": "python3"
  },
  "language_info": {
   "codemirror_mode": {
    "name": "ipython",
    "version": 3
   },
   "file_extension": ".py",
   "mimetype": "text/x-python",
   "name": "python",
   "nbconvert_exporter": "python",
   "pygments_lexer": "ipython3",
   "version": "3.11.7"
  }
 },
 "nbformat": 4,
 "nbformat_minor": 2
}

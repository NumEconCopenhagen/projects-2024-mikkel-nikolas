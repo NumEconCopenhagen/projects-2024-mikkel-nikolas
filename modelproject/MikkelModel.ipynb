{
 "cells": [
  {
   "cell_type": "markdown",
   "metadata": {},
   "source": [
    "# AS AD Model for a closed economy"
   ]
  },
  {
   "cell_type": "markdown",
   "metadata": {},
   "source": [
    "The primary goal of this project is to solve the Aggregate Supply and Demand (ASAD) model in a closed economy setting. We begin by investigating the model under deterministic shocks over short intervals and then explore the model's dynamics in long-run equilibrium. To enhance the model's realism, we incorporate stochastic and persistent shocks. Moreover, the social loss function will be used to optimize the alpha value to minimize social loss.\n",
    "\n",
    "### Model Description and Equations\n",
    "\n",
    "We focus on a closed economy impacted by both stochastic and persistent shocks, formulated through the following key equations:\n",
    "\n",
    "1. **General Market Equation:**\n",
    "   $$ y_{t}-\\overline{y}=\\alpha_{1}(g_{t}-\\overline{g})-\\alpha_{2}(r_{t}-\\overline{r})-\\alpha_{3}(\\tau_{t}-\\overline{\\tau})+v_{t} $$\n",
    "\n",
    "2. **Taylor Rule for Monetary Policy:**\n",
    "   $$ \n",
    "   i_{t}=\\overline{r}+\\pi_{t+1}^{e}+h(\\pi_{t}-\\pi^{*})+b(y_{t}-\\overline{y})+\\hat{\\rho}_{t}\n",
    "   $$\n",
    "\n",
    "3. **Aggregate Supply (AS) Curve:**\n",
    "   $$\n",
    "   \\pi_{t}=\\pi_{t}^{e}+\\gamma(y_{t}-\\overline{y})+s_{t}\n",
    "   $$\n",
    "\n",
    "4. **Static Expectation of Inflation:**\n",
    "   $$\n",
    "   \\pi^e_t = \\pi_{t-1}\n",
    "   $$\n",
    "\n",
    "Combining the above, we derive the AD curve as:\n",
    "$$\n",
    "y_{t}-\\overline{y} = -\\alpha(\\pi_{t}-\\pi^{*}) + z_{t}\n",
    "$$\n",
    "Where:\n",
    "$$\n",
    "\\alpha = \\frac{\\alpha_{2}h}{1+\\alpha_{2}b} \\quad \\text{and} \\quad z_{t} = \\frac{\\alpha_{1}(g_{t}-\\overline{g}) - \\alpha_{2}\\hat{\\rho} - \\alpha_{3}(\\tau_{t}-\\overline{\\tau}) + v_{t}}{1+\\alpha_{2}b}\n",
    "$$\n",
    "\n",
    "\n",
    "The AS curve, in terms of inflation expectation and output gap, is expressed as:\n",
    "$$\n",
    "\\pi_{t}=\\pi_{t-1}+\\gamma(y_{t}-\\overline{y})+s_{t}\n",
    "$$\n",
    "\n",
    "### Gap Analysis in Equilibrium Dynamics\n",
    "\n",
    "Rewriting in terms of output and inflation gaps:\n",
    "$$\n",
    "\\hat{y}_{t} = y_t-\\bar{y}, \\quad \\hat{\\pi}_{t} = \\pi_t-\\pi^{*}\n",
    "$$\n",
    "leads to:\n",
    "$$\n",
    "\\hat{y}=\\frac{z-\\alpha s}{1+\\alpha\\gamma}, \\quad \\hat{\\pi}=\\frac{\\gamma z+s}{1+\\alpha\\gamma}\n",
    "$$\n",
    "\n",
    "We set $$ \\alpha = 0.6 $$ and $$ \\gamma = 0.08 $$ Then we initially simulate the model with a positive demand shock in period t = 1, observing the adjustment process visually."
   ]
  },
  {
   "cell_type": "code",
   "execution_count": 1,
   "metadata": {},
   "outputs": [],
   "source": [
    "import numpy as np \n",
    "from scipy import optimize\n",
    "import matplotlib.pyplot as plt\n",
    "import ipywidgets as widgets\n",
    "from IPython.display import display # For interactive figure\n",
    "from ipywidgets import interact, IntSlider, Play, Dropdown\n",
    "\n",
    "plt.rcParams.update({\"axes.grid\":True,\"grid.color\":\"black\",\"grid.alpha\":\"0.25\",\"grid.linestyle\":\"--\"})\n",
    "plt.rcParams.update({'font.size': 14})\n",
    "\n",
    "\n",
    "\n",
    "plt.rcParams[\"figure.autolayout\"] = True\n",
    "plt.rcParams[\"axes.edgecolor\"] = \"black\"\n",
    "plt.rcParams[\"axes.linewidth\"] = 1.0\n",
    "plt.rcParams[\"axes.xmargin\"] = 0.01\n",
    "plt.rcParams[\"axes.xmargin\"] = 0.01\n",
    "plt.rcParams[\"legend.edgecolor\"] = \"black\"\n",
    "\n",
    "# local modules\n",
    "import MikkelModel\n",
    "from MikkelModel import ASAD"
   ]
  },
  {
   "cell_type": "markdown",
   "metadata": {},
   "source": [
    "# Solving the model"
   ]
  },
  {
   "cell_type": "code",
   "execution_count": 2,
   "metadata": {},
   "outputs": [
    {
     "ename": "IndexError",
     "evalue": "list index out of range",
     "output_type": "error",
     "traceback": [
      "\u001b[0;31m---------------------------------------------------------------------------\u001b[0m",
      "\u001b[0;31mIndexError\u001b[0m                                Traceback (most recent call last)",
      "Cell \u001b[0;32mIn[2], line 5\u001b[0m\n\u001b[1;32m      2\u001b[0m model \u001b[38;5;241m=\u001b[39m ASAD(T\u001b[38;5;241m=\u001b[39m\u001b[38;5;241m100\u001b[39m, z\u001b[38;5;241m=\u001b[39m\u001b[38;5;241m-\u001b[39m\u001b[38;5;241m0.1\u001b[39m, z_duration\u001b[38;5;241m=\u001b[39m\u001b[38;5;241m1\u001b[39m)\n\u001b[1;32m      4\u001b[0m \u001b[38;5;66;03m# Solve the model\u001b[39;00m\n\u001b[0;32m----> 5\u001b[0m model\u001b[38;5;241m.\u001b[39msolve_model()\n\u001b[1;32m      7\u001b[0m \u001b[38;5;66;03m# Plot the output gap and inflation gap\u001b[39;00m\n\u001b[1;32m      8\u001b[0m model\u001b[38;5;241m.\u001b[39mplot_results()\n",
      "File \u001b[0;32m~/projects-2024-mikkel-nikolas/modelproject/MikkelModel.py:22\u001b[0m, in \u001b[0;36mASAD.solve_model\u001b[0;34m(self)\u001b[0m\n\u001b[1;32m     20\u001b[0m     z \u001b[38;5;241m=\u001b[39m \u001b[38;5;28mself\u001b[39m\u001b[38;5;241m.\u001b[39mz \u001b[38;5;28;01mif\u001b[39;00m t \u001b[38;5;241m<\u001b[39m\u001b[38;5;241m=\u001b[39m \u001b[38;5;28mself\u001b[39m\u001b[38;5;241m.\u001b[39mz_duration \u001b[38;5;28;01melse\u001b[39;00m \u001b[38;5;241m0\u001b[39m\n\u001b[1;32m     21\u001b[0m     s \u001b[38;5;241m=\u001b[39m \u001b[38;5;28mself\u001b[39m\u001b[38;5;241m.\u001b[39ms \u001b[38;5;28;01mif\u001b[39;00m t \u001b[38;5;241m<\u001b[39m\u001b[38;5;241m=\u001b[39m \u001b[38;5;28mself\u001b[39m\u001b[38;5;241m.\u001b[39ms_duration \u001b[38;5;28;01melse\u001b[39;00m \u001b[38;5;241m0\u001b[39m\n\u001b[0;32m---> 22\u001b[0m     yhat \u001b[38;5;241m=\u001b[39m (z \u001b[38;5;241m-\u001b[39m \u001b[38;5;28mself\u001b[39m\u001b[38;5;241m.\u001b[39malpha \u001b[38;5;241m*\u001b[39m \u001b[38;5;28mself\u001b[39m\u001b[38;5;241m.\u001b[39mpihat_vec[\u001b[38;5;241m-\u001b[39m\u001b[38;5;241m1\u001b[39m] \u001b[38;5;241m-\u001b[39m \u001b[38;5;28mself\u001b[39m\u001b[38;5;241m.\u001b[39malpha \u001b[38;5;241m*\u001b[39m s) \u001b[38;5;241m/\u001b[39m (\u001b[38;5;241m1\u001b[39m \u001b[38;5;241m+\u001b[39m \u001b[38;5;28mself\u001b[39m\u001b[38;5;241m.\u001b[39malpha \u001b[38;5;241m*\u001b[39m \u001b[38;5;28mself\u001b[39m\u001b[38;5;241m.\u001b[39mgamma)\n\u001b[1;32m     23\u001b[0m     pihat \u001b[38;5;241m=\u001b[39m (\u001b[38;5;28mself\u001b[39m\u001b[38;5;241m.\u001b[39mpihat_vec[\u001b[38;5;241m-\u001b[39m\u001b[38;5;241m1\u001b[39m] \u001b[38;5;241m+\u001b[39m \u001b[38;5;28mself\u001b[39m\u001b[38;5;241m.\u001b[39mgamma \u001b[38;5;241m*\u001b[39m z \u001b[38;5;241m+\u001b[39m s) \u001b[38;5;241m/\u001b[39m (\u001b[38;5;241m1\u001b[39m \u001b[38;5;241m+\u001b[39m \u001b[38;5;28mself\u001b[39m\u001b[38;5;241m.\u001b[39malpha \u001b[38;5;241m*\u001b[39m \u001b[38;5;28mself\u001b[39m\u001b[38;5;241m.\u001b[39mgamma)\n\u001b[1;32m     24\u001b[0m \u001b[38;5;28;01melse\u001b[39;00m:\n",
      "\u001b[0;31mIndexError\u001b[0m: list index out of range"
     ]
    }
   ],
   "source": [
    "# Instantiate the ASAD model with parameters\n",
    "model = ASAD(T=100, z=-0.1, z_duration=1)\n",
    "\n",
    "# Solve the model\n",
    "model.solve_model()\n",
    "\n",
    "# Plot the output gap and inflation gap\n",
    "model.plot_results()"
   ]
  },
  {
   "cell_type": "markdown",
   "metadata": {},
   "source": [
    "After the shock, which has a negative impact on output gap and inflation gap, it goes back to equlibrium. Furthermore, it has a much larger impact on output than inflation. "
   ]
  },
  {
   "cell_type": "markdown",
   "metadata": {},
   "source": [
    "Now, we investigate how a shock affect the curves, and how they transcend back to their original equilibrium in the long run. Here we use a interactive plot, so different types of shocks can be investegated. "
   ]
  },
  {
   "cell_type": "code",
   "execution_count": 10,
   "metadata": {},
   "outputs": [
    {
     "data": {
      "application/vnd.jupyter.widget-view+json": {
       "model_id": "a1111fddd4cc4173bd37a2b8db364389",
       "version_major": 2,
       "version_minor": 0
      },
      "text/plain": [
       "interactive(children=(Play(value=0, description='Press play', interval=1000, max=10), Dropdown(description='Sh…"
      ]
     },
     "metadata": {},
     "output_type": "display_data"
    },
    {
     "data": {
      "text/plain": [
       "<function __main__.plot_wrapper(T, shock_type)>"
      ]
     },
     "execution_count": 10,
     "metadata": {},
     "output_type": "execute_result"
    }
   ],
   "source": [
    "def plot_wrapper(T, shock_type): \n",
    "    \n",
    "    if shock_type == 'positive demand shock': \n",
    "        z = 0.01\n",
    "        s = 0\n",
    "        z_duration = 1\n",
    "        s_duration = 0\n",
    "        \n",
    "    elif shock_type == 'negative demand shock': \n",
    "        z = -0.01\n",
    "        s = 0\n",
    "        z_duration = 1\n",
    "        s_duration = 0\n",
    "        \n",
    "    elif shock_type == 'positive supply shock':\n",
    "        z = 0\n",
    "        s = -0.01\n",
    "        z_duration = 0\n",
    "        s_duration = 1\n",
    "        \n",
    "    elif shock_type == 'negative supply shock':\n",
    "        z = 0\n",
    "        s = 0.01\n",
    "        z_duration = 0\n",
    "        s_duration = 1\n",
    "        \n",
    "    # Instantiate the ASAD model with parameters and solve the model with the choosen shock valeus\n",
    "    \n",
    "    asad_model = ASAD(T=T, z=z, s=s, gamma=1, alpha=0.8, z_duration=z_duration, s_duration=s_duration) \n",
    "    asad_model.solve_model()\n",
    "    asad_model.plot_ad_as() # Removed the asad_model.plot_results() line\n",
    "    \n",
    "periods = Play(value=0,min=0,max=10,step=1,interval=1000,description=\"Press play\",disabled=False) # Added the periods argument\n",
    "\n",
    "shock_dropdown = Dropdown(options=['positive demand shock', 'negative demand shock', 'positive supply shock', 'negative supply shock'], value='positive demand shock',\n",
    "    description='Shock type:',disabled=False) # Added the shock_dropdown argument & changed the options\n",
    "\n",
    "# Adding the slider value to the plot_wrapper function\n",
    "\n",
    "slider = widgets.IntSlider()\n",
    "widgets.jslink((periods, 'value'), (slider, 'value'))\n",
    "widgets.HBox([periods, slider, shock_dropdown])\n",
    "interact(plot_wrapper, T=periods, shock_type=shock_dropdown)"
   ]
  },
  {
   "cell_type": "markdown",
   "metadata": {},
   "source": [
    "Positive demand shock:\n",
    "When a positive demand shock arises, drives the AD curve up. And the AS curve goes with. In further periods, the AS curve goes back down towards equilbrium, and ends up in the same place.\n",
    "Negative demand shock:\n",
    "A negative demand has the opposite effect than the positve. The AD curve goes down, and the AS curve goes with. Then the AS goes back towards equilibrium, and it ends up in the same place, in the initial equilibrium.\n",
    "Positive supply shock:\n",
    "From the positive supply shock, the AS curve goes up towards equilibrium starting from a lower point, which initially gives higher output. Then it goes back towards equilibrium.\n",
    "Negative supply shock:\n",
    "The negative supply shock, makes AS curve start higher, which yelds a lower output. Afterwards it goes up towards equlibrium in the long run."
   ]
  },
  {
   "cell_type": "code",
   "execution_count": 11,
   "metadata": {},
   "outputs": [
    {
     "ename": "IndexError",
     "evalue": "list index out of range",
     "output_type": "error",
     "traceback": [
      "\u001b[0;31m---------------------------------------------------------------------------\u001b[0m",
      "\u001b[0;31mIndexError\u001b[0m                                Traceback (most recent call last)",
      "Cell \u001b[0;32mIn[11], line 5\u001b[0m\n\u001b[1;32m      2\u001b[0m asad_model \u001b[38;5;241m=\u001b[39m ASAD(T\u001b[38;5;241m=\u001b[39m\u001b[38;5;241m100\u001b[39m, alpha\u001b[38;5;241m=\u001b[39m\u001b[38;5;241m1\u001b[39m,gamma\u001b[38;5;241m=\u001b[39m\u001b[38;5;241m0.075\u001b[39m)\n\u001b[1;32m      4\u001b[0m \u001b[38;5;66;03m# Solve the model to generate yhat_vec and pihat_vec\u001b[39;00m\n\u001b[0;32m----> 5\u001b[0m asad_model\u001b[38;5;241m.\u001b[39msolve_model()\n\u001b[1;32m      7\u001b[0m \u001b[38;5;66;03m# Call the social_loss_function method on the instance\u001b[39;00m\n\u001b[1;32m      8\u001b[0m asad_model\u001b[38;5;241m.\u001b[39msolve_stochastic_shock(seed\u001b[38;5;241m=\u001b[39m\u001b[38;5;241m1917\u001b[39m)  \u001b[38;5;66;03m# Add your seed here.\u001b[39;00m\n",
      "File \u001b[0;32m~/projects-2024-mikkel-nikolas/modelproject/MikkelModel.py:22\u001b[0m, in \u001b[0;36mASAD.solve_model\u001b[0;34m(self)\u001b[0m\n\u001b[1;32m     20\u001b[0m     z \u001b[38;5;241m=\u001b[39m \u001b[38;5;28mself\u001b[39m\u001b[38;5;241m.\u001b[39mz \u001b[38;5;28;01mif\u001b[39;00m t \u001b[38;5;241m<\u001b[39m\u001b[38;5;241m=\u001b[39m \u001b[38;5;28mself\u001b[39m\u001b[38;5;241m.\u001b[39mz_duration \u001b[38;5;28;01melse\u001b[39;00m \u001b[38;5;241m0\u001b[39m\n\u001b[1;32m     21\u001b[0m     s \u001b[38;5;241m=\u001b[39m \u001b[38;5;28mself\u001b[39m\u001b[38;5;241m.\u001b[39ms \u001b[38;5;28;01mif\u001b[39;00m t \u001b[38;5;241m<\u001b[39m\u001b[38;5;241m=\u001b[39m \u001b[38;5;28mself\u001b[39m\u001b[38;5;241m.\u001b[39ms_duration \u001b[38;5;28;01melse\u001b[39;00m \u001b[38;5;241m0\u001b[39m\n\u001b[0;32m---> 22\u001b[0m     yhat \u001b[38;5;241m=\u001b[39m (z \u001b[38;5;241m-\u001b[39m \u001b[38;5;28mself\u001b[39m\u001b[38;5;241m.\u001b[39malpha \u001b[38;5;241m*\u001b[39m \u001b[38;5;28mself\u001b[39m\u001b[38;5;241m.\u001b[39mpihat_vec[\u001b[38;5;241m-\u001b[39m\u001b[38;5;241m1\u001b[39m] \u001b[38;5;241m-\u001b[39m \u001b[38;5;28mself\u001b[39m\u001b[38;5;241m.\u001b[39malpha \u001b[38;5;241m*\u001b[39m s) \u001b[38;5;241m/\u001b[39m (\u001b[38;5;241m1\u001b[39m \u001b[38;5;241m+\u001b[39m \u001b[38;5;28mself\u001b[39m\u001b[38;5;241m.\u001b[39malpha \u001b[38;5;241m*\u001b[39m \u001b[38;5;28mself\u001b[39m\u001b[38;5;241m.\u001b[39mgamma)\n\u001b[1;32m     23\u001b[0m     pihat \u001b[38;5;241m=\u001b[39m (\u001b[38;5;28mself\u001b[39m\u001b[38;5;241m.\u001b[39mpihat_vec[\u001b[38;5;241m-\u001b[39m\u001b[38;5;241m1\u001b[39m] \u001b[38;5;241m+\u001b[39m \u001b[38;5;28mself\u001b[39m\u001b[38;5;241m.\u001b[39mgamma \u001b[38;5;241m*\u001b[39m z \u001b[38;5;241m+\u001b[39m s) \u001b[38;5;241m/\u001b[39m (\u001b[38;5;241m1\u001b[39m \u001b[38;5;241m+\u001b[39m \u001b[38;5;28mself\u001b[39m\u001b[38;5;241m.\u001b[39malpha \u001b[38;5;241m*\u001b[39m \u001b[38;5;28mself\u001b[39m\u001b[38;5;241m.\u001b[39mgamma)\n\u001b[1;32m     24\u001b[0m \u001b[38;5;28;01melse\u001b[39;00m:\n",
      "\u001b[0;31mIndexError\u001b[0m: list index out of range"
     ]
    }
   ],
   "source": [
    "# Create an instance of the ASAD class with your desired parameters\n",
    "asad_model = ASAD(T=100, alpha=1,gamma=0.075)\n",
    "\n",
    "# Solve the model to generate yhat_vec and pihat_vec\n",
    "asad_model.solve_model()\n",
    "\n",
    "# Call the social_loss_function method on the instance\n",
    "asad_model.solve_stochastic_shock(seed=1917)  # Add your seed here.\n",
    "asad_model.social_loss_function()\n",
    "\n",
    "plt.plot(asad_model.t_vec, asad_model.yhat_vec_stoc, label=\"Output-gap\") # Plot the output gap\n",
    "plt.plot(asad_model.t_vec, asad_model.pihat_vec_stoc, label=\"Inflation-gap\") # Plot the inflation gap\n",
    "plt.xlabel(\"Periods\") # Label the x-axis\n",
    "plt.ylabel(\"Gap\") # Label the y-axis\n",
    "plt.title(\"Figure 1: Output-gap and Inflation-gap\") # Add a title\n",
    "plt.legend() \n",
    "plt.show()\n"
   ]
  },
  {
   "cell_type": "markdown",
   "metadata": {},
   "source": [
    "From the figure, plotting output-gap and inflation-gap, it is clear they have an opposite development. This means, when inflation goes down, output goes up and vice versa. What drives this effect cannot be detected."
   ]
  },
  {
   "cell_type": "markdown",
   "metadata": {},
   "source": [
    "# simulation of optimal alpha for minimum social loss"
   ]
  },
  {
   "cell_type": "markdown",
   "metadata": {},
   "source": [
    "Now, we run a monte carlo simulation, to investage what alpha might minimize the social loss, to minimize the social loss."
   ]
  },
  {
   "cell_type": "code",
   "execution_count": 12,
   "metadata": {},
   "outputs": [],
   "source": [
    "# Initialize lists to store results\n",
    "all_optimal_alphas = []\n",
    "all_social_losses = []\n",
    "\n",
    "# Optimization bounds and initial guess\n",
    "bound = ((1e-8, 10))\n",
    "alpha0 = [1]\n",
    "\n",
    "num_simulations = 100  # Number of simulations\n",
    "\n",
    "for i in range(num_simulations):\n",
    "    # Set a different seed for each simulation\n",
    "    seed = i\n",
    "\n",
    "    # Create an instance of the ASAD class with your desired parameters\n",
    "    asad_model = ASAD(T=100, alpha=1, gamma=0.075)\n",
    "\n",
    "    # Minimize the social loss function for the given seed\n",
    "    result = optimize.minimize(asad_model.social_loss_alpha, alpha0, args=(seed,), method=\"Nelder-Mead\", bounds=[bound])\n",
    "\n",
    "    # Extract the optimal alpha value and social loss\n",
    "    optimal_alpha = result.x[0]\n",
    "    social_loss = result.fun\n",
    "\n",
    "    # Append the results to our lists\n",
    "    all_optimal_alphas.append(optimal_alpha)\n",
    "    all_social_losses.append(social_loss)\n",
    "\n",
    "# Calculate the average optimal alpha value and standard deviation\n",
    "avg_optimal_alpha = np.mean(all_optimal_alphas)\n",
    "std_optimal_alpha = np.std(all_optimal_alphas)\n",
    "\n",
    "# Calculate the average social loss\n",
    "avg_social_loss = np.mean(all_social_losses)\n",
    "\n",
    "# Print the average optimal alpha value, standard deviation, and average social loss\n",
    "print(f\"The average optimal value of alpha over {num_simulations} simulations is: {avg_optimal_alpha:.4f}\")\n",
    "print(f\"The standard deviation of the optimal value of alpha over {num_simulations} simulations is: {std_optimal_alpha:.4f}\")\n",
    "print(f\"The average social loss over {num_simulations} simulations is: {avg_social_loss:.4f}\")\n",
    "\n",
    "# Create subplot\n",
    "fig, axs = plt.subplots(2, 1, figsize=(10, 12))\n",
    "\n",
    "# Plot the histogram of optimal alphas\n",
    "axs[0].hist(all_optimal_alphas, bins=30, edgecolor='black')\n",
    "axs[0].set_title(f'Histogram of Optimal Alphas over {num_simulations} Simulations')\n",
    "axs[0].set_xlabel('Optimal Alpha')\n",
    "axs[0].set_ylabel('Frequency')\n",
    "\n",
    "# Plot the histogram of social losses\n",
    "axs[1].hist(all_social_losses, bins=30, edgecolor='black')\n",
    "axs[1].set_title(f'Histogram of Social Losses over {num_simulations} Simulations')\n",
    "axs[1].set_xlabel('Social Loss')\n",
    "axs[1].set_ylabel('Frequency')\n",
    "\n",
    "# Display the plot\n",
    "plt.tight_layout()\n",
    "plt.show() "
   ]
  },
  {
   "cell_type": "markdown",
   "metadata": {},
   "source": [
    "Write something about graphs"
   ]
  },
  {
   "cell_type": "markdown",
   "metadata": {},
   "source": [
    "# Conclusion"
   ]
  },
  {
   "cell_type": "markdown",
   "metadata": {},
   "source": [
    "conclude"
   ]
  }
 ],
 "metadata": {
  "kernelspec": {
   "display_name": "base",
   "language": "python",
   "name": "python3"
  },
  "language_info": {
   "codemirror_mode": {
    "name": "ipython",
    "version": 3
   },
   "file_extension": ".py",
   "mimetype": "text/x-python",
   "name": "python",
   "nbconvert_exporter": "python",
   "pygments_lexer": "ipython3",
   "version": "3.11.7"
  }
 },
 "nbformat": 4,
 "nbformat_minor": 2
}

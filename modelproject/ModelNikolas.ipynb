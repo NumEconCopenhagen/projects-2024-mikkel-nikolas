{
 "cells": [
  {
   "cell_type": "markdown",
   "metadata": {},
   "source": [
    "  \n",
    "   ### Calculate Steady State Values\n",
    "\n",
    "This function calculates the steady state values of capital per effective worker ($\\tilde{k}^*$), human capital per effective worker ($\\tilde{h}^*$), and output per effective worker ($\\tilde{y}^*$) in a Solow model extended to include human capital.\n",
    "\n",
    "#### Parameters:\n",
    "- `sK` (float): Savings rate for physical capital.\n",
    "- `sH` (float): Savings rate for human capital.\n",
    "- `delta` (float): Depreciation rate.\n",
    "- `alpha` (float): Output elasticity with respect to physical capital.\n",
    "- `phi` (float): Output elasticity with respect to human capital.\n",
    "- `n` (float): Population growth rate.\n",
    "- `g` (float): Technological growth rate.\n",
    "\n",
    "#### Returns:\n",
    "- A dictionary containing steady state values for $\\tilde{k}^*$, $\\tilde{h}^*$, $\\tilde{y}^*$.\n"
   ]
  },
  {
   "cell_type": "code",
   "execution_count": 1,
   "metadata": {},
   "outputs": [
    {
     "name": "stdout",
     "output_type": "stream",
     "text": [
      "{'k_tilde_star': 33.94298617754171, 'h_tilde_star': 244.1406250000001, 'y_tilde_star': 8.644761670141202}\n"
     ]
    }
   ],
   "source": [
    "def steady_state(sK, sH, delta, alpha, phi, n, g):\n",
    "    # Solving for k_tilde_star and h_tilde_star from steady state equations\n",
    "    A = (sK / (n + g + delta)) ** (1 / (1 - alpha - phi))\n",
    "    B = (sH / (n + g + delta)) ** (1 / (1 - alpha - phi))\n",
    "    k_tilde_star = A ** (phi / (alpha * (1 - phi - alpha)))\n",
    "    h_tilde_star = B ** (alpha / (phi * (1 - phi - alpha)))\n",
    "    \n",
    "    # Calculate y_tilde_star using the Cobb-Douglas production function\n",
    "    y_tilde_star = k_tilde_star ** alpha * h_tilde_star ** phi\n",
    "    \n",
    "    return {'k_tilde_star': k_tilde_star, 'h_tilde_star': h_tilde_star, 'y_tilde_star': y_tilde_star}\n",
    "\n",
    "# Example parameters\n",
    "params = {\n",
    "    'sK': 0.3,  # Physical capital savings rate\n",
    "    'sH': 0.2,  # Human capital savings rate\n",
    "    'delta': 0.05,  # Depreciation rate\n",
    "    'alpha': 0.3,  # Output elasticity of physical capital\n",
    "    'phi': 0.2,   # Output elasticity of human capital\n",
    "    'n': 0.01,    # Population growth rate\n",
    "    'g': 0.02     # Technological growth rate\n",
    "}\n",
    "\n",
    "# Calculate steady state values\n",
    "steady_states = steady_state(**params)\n",
    "print(steady_states)\n"
   ]
  }
 ],
 "metadata": {
  "kernelspec": {
   "display_name": "base",
   "language": "python",
   "name": "python3"
  },
  "language_info": {
   "codemirror_mode": {
    "name": "ipython",
    "version": 3
   },
   "file_extension": ".py",
   "mimetype": "text/x-python",
   "name": "python",
   "nbconvert_exporter": "python",
   "pygments_lexer": "ipython3",
   "version": "3.11.7"
  }
 },
 "nbformat": 4,
 "nbformat_minor": 2
}

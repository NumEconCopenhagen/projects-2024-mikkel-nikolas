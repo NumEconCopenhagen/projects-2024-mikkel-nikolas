{
 "cells": [
  {
   "cell_type": "markdown",
   "metadata": {},
   "source": [
    "\n",
    "### Solow Model with Human Capital: Key Equations\n",
    "\n",
    "1. **Production Function:**\n",
    "   The extended Cobb-Douglas production function including human capital is given by:\n",
    "   $$\n",
    "   Y_t = K_t^\\alpha H_t^\\phi (A_t L_t)^{1-\\alpha-\\phi}\n",
    "   $$\n",
    "\n",
    "2. **Capital Accumulation Equations:**\n",
    "   - **Physical Capital:**\n",
    "     $$\n",
    "     K_{t+1} = s_K Y_t + (1 - \\delta) K_t\n",
    "     $$\n",
    "   - **Human Capital:**\n",
    "     $$\n",
    "     H_{t+1} = s_H Y_t + (1 - \\delta) H_t\n",
    "     $$\n",
    "   where s_K and s_H are the savings rates for physical and human capital, and delta is the common depreciation rate for both types of capital.\n",
    "\n",
    "3. **Per Worker Terms:**\n",
    "   Transforming these equations into per effective worker terms involves normalizing by the effective labor:\n",
    "   - **Capital per effective worker:**\n",
    "     $$\n",
    "     \\tilde{k}_{t+1} = \\frac{s_K \\tilde{y}_t + (1-\\delta) \\tilde{k}_t}{(1+n)(1+g)}\n",
    "     $$\n",
    "   - **Human capital per effective worker:**\n",
    "     $$\n",
    "     \\tilde{h}_{t+1} = \\frac{s_H \\tilde{y}_t + (1-\\delta) \\tilde{h}_t}{(1+n)(1+g)}\n",
    "     $$\n",
    "   where n is the growth rate of labor and g is the growth rate of technology."
   ]
  },
  {
   "cell_type": "code",
   "execution_count": 1,
   "metadata": {},
   "outputs": [
    {
     "data": {
      "text/latex": [
       "$\\displaystyle \\left(\\frac{h_{tilde}^{- \\varphi} \\left(\\delta + g n + g + n\\right)}{sK}\\right)^{\\frac{1}{\\alpha - 1}}$"
      ],
      "text/plain": [
       "((delta + g*n + g + n)/(h_tilde**varphi*sK))**(1/(alpha - 1))"
      ]
     },
     "execution_count": 1,
     "metadata": {},
     "output_type": "execute_result"
    }
   ],
   "source": [
    "import sympy as sm\n",
    "\n",
    "# Define the symbols\n",
    "sK, sH, alpha, varphi, delta, k_tilde, h_tilde, n, g = sm.symbols('sK sH alpha varphi delta k_tilde h_tilde n g')\n",
    "\n",
    "# Define the equations assuming steady state (k_tilde_{t+1} = k_tilde_t = k_tilde)\n",
    "eq_k = sm.Eq(k_tilde, (sK * k_tilde**alpha * h_tilde**varphi + (1 - delta) * k_tilde) / ((1 + n) * (1 + g)))\n",
    "\n",
    "\n",
    "steady_state_k = sm.solve(eq_k, k_tilde)[0]\n",
    "\n",
    "\n",
    "steady_state_k\n"
   ]
  },
  {
   "cell_type": "code",
   "execution_count": 2,
   "metadata": {},
   "outputs": [
    {
     "data": {
      "text/latex": [
       "$\\displaystyle \\left(\\frac{k_{tilde}^{- \\alpha} \\left(\\delta + g n + g + n\\right)}{sH}\\right)^{\\frac{1}{\\varphi - 1}}$"
      ],
      "text/plain": [
       "((delta + g*n + g + n)/(k_tilde**alpha*sH))**(1/(varphi - 1))"
      ]
     },
     "execution_count": 2,
     "metadata": {},
     "output_type": "execute_result"
    }
   ],
   "source": [
    "eq_h = sm.Eq(h_tilde, (sH * k_tilde**alpha * h_tilde**varphi + (1 - delta) * h_tilde) / ((1 + n) * (1 + g)))\n",
    "steady_state_h = sm.solve(eq_h, h_tilde)[0]\n",
    "steady_state_h"
   ]
  },
  {
   "cell_type": "markdown",
   "metadata": {},
   "source": [
    "**Steady State for Capital and Human capital:**\n",
    "\n",
    "We rewrite the two solutions for k_tilde and h_tilde and get the steady state value.\n",
    "\n",
    "- **Capital per effective worker:**\n",
    "  $$\n",
    "  \\tilde{k}^* = \\left(\\frac{s_K^{1-\\phi} s_H^\\phi}{n+g+\\delta+n\\delta}\\right)^{\\frac{1}{1-\\alpha-\\phi}}\n",
    "  $$\n",
    "\n",
    "- **Human capital per effective worker:**\n",
    "  $$\n",
    "  \\tilde{h}^* = \\left(\\frac{s_K^\\alpha s_H^{1-\\alpha}}{n+g+\\delta+n\\delta}\\right)^{\\frac{1}{1-\\alpha-\\phi}}\n",
    "  $$\n",
    "\n",
    "**Steady state for output per effective worker:**\n",
    "\n",
    "Then the steady state output per effective worker is given by the following equation:\n",
    "\n",
    "$$\n",
    "\\tilde{y}^* = (\\tilde{k}^*)^\\alpha (\\tilde{h}^*)^\\phi\n",
    "$$\n",
    "\n",
    "Using the values for capital per effective worker and human capital per effective worker derived previously:\n",
    "\n",
    "$$\n",
    "\\tilde{y}^* = \\left( \\left( \\frac{s_K^{1-\\phi} s_H^\\phi}{n+g+\\delta+n\\delta} \\right)^{\\frac{\\alpha}{1-\\alpha-\\phi}} \\right) \\left( \\left( \\frac{s_K^\\alpha s_H^{1-\\alpha}}{n+g+\\delta+n\\delta} \\right)^{\\frac{\\phi}{1-\\alpha-\\phi}} \\right)\n",
    "$$\n",
    "\n",
    "Expanding this, we get:\n",
    "\n",
    "$$\n",
    "\\tilde{y}^* = \\left( \\frac{s_K}{n+g+\\delta+n\\delta} \\right)^{\\frac{\\alpha}{1-\\alpha-\\phi}} \\left( \\frac{s_H}{n+g+\\delta+n\\delta} \\right)^{\\frac{\\phi}{1-\\alpha-\\phi}}\n",
    "$$\n",
    "\n",
    "7. **Parameterestimates** \n",
    "\n",
    "We are using the estimates used in macro 1 lectures and simulation of the Solow model with Human capital, which is done by Casper Worm:\n",
    "\n",
    "$$\\alpha = 0.33 , \\phi = 0.33, s_H = 0.2, s_K = 0.2, delta = 0.05, n = 0.025, g = 0.02"
   ]
  }
 ],
 "metadata": {
  "kernelspec": {
   "display_name": "base",
   "language": "python",
   "name": "python3"
  },
  "language_info": {
   "codemirror_mode": {
    "name": "ipython",
    "version": 3
   },
   "file_extension": ".py",
   "mimetype": "text/x-python",
   "name": "python",
   "nbconvert_exporter": "python",
   "pygments_lexer": "ipython3",
   "version": "3.11.7"
  }
 },
 "nbformat": 4,
 "nbformat_minor": 2
}

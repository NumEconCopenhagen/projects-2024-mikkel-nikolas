{
 "cells": [
  {
   "cell_type": "code",
   "execution_count": 11,
   "metadata": {},
   "outputs": [
    {
     "name": "stdout",
     "output_type": "stream",
     "text": [
      "The autoreload extension is already loaded. To reload it, use:\n",
      "  %reload_ext autoreload\n"
     ]
    }
   ],
   "source": [
    "import numpy as np\n",
    "import matplotlib.pyplot as plt\n",
    "plt.rcParams.update({\"axes.grid\":True,\"grid.color\":\"black\",\"grid.alpha\":\"0.25\",\"grid.linestyle\":\"--\"})\n",
    "plt.rcParams.update({'font.size': 14})\n",
    "\n",
    "%load_ext autoreload\n",
    "%autoreload 2"
   ]
  },
  {
   "cell_type": "code",
   "execution_count": 6,
   "metadata": {},
   "outputs": [],
   "source": [
    "from Opgave1Nikolas import InauguralprojectClass"
   ]
  },
  {
   "cell_type": "code",
   "execution_count": 7,
   "metadata": {},
   "outputs": [],
   "source": [
    "model = InauguralprojectClass()"
   ]
  },
  {
   "cell_type": "code",
   "execution_count": 12,
   "metadata": {},
   "outputs": [
    {
     "ename": "NameError",
     "evalue": "name 'uA' is not defined",
     "output_type": "error",
     "traceback": [
      "\u001b[0;31m---------------------------------------------------------------------------\u001b[0m",
      "\u001b[0;31mNameError\u001b[0m                                 Traceback (most recent call last)",
      "Cell \u001b[0;32mIn[12], line 17\u001b[0m\n\u001b[1;32m     14\u001b[0m xB2 \u001b[38;5;241m=\u001b[39m \u001b[38;5;241m1\u001b[39m \u001b[38;5;241m-\u001b[39m xA2\n\u001b[1;32m     16\u001b[0m \u001b[38;5;66;03m# Calculating utilities for the new allocations\u001b[39;00m\n\u001b[0;32m---> 17\u001b[0m uA_new \u001b[38;5;241m=\u001b[39m uA(xA1, xA2)\n\u001b[1;32m     18\u001b[0m uB_new \u001b[38;5;241m=\u001b[39m uB(xB1, xB2)\n\u001b[1;32m     20\u001b[0m \u001b[38;5;66;03m# Checking if both are at least as well off as with their initial endowments\u001b[39;00m\n",
      "\u001b[0;31mNameError\u001b[0m: name 'uA' is not defined"
     ]
    }
   ],
   "source": [
    "import matplotlib.pyplot as plt\n",
    "\n",
    "# Grid size and setup\n",
    "N = 75\n",
    "x_grid = np.linspace(0, 1, N)\n",
    "\n",
    "# Pareto improvement set\n",
    "pareto_set = []\n",
    "\n",
    "# Checking each combination in the grid for Pareto improvements\n",
    "for xA1 in x_grid:\n",
    "    for xA2 in x_grid:\n",
    "        xB1 = 1 - xA1\n",
    "        xB2 = 1 - xA2\n",
    "        \n",
    "        # Calculating utilities for the new allocations\n",
    "        uA_new = utility_A(xA1, xA2)\n",
    "        uB_new = utility_B(xB1, xB2)\n",
    "        \n",
    "        # Checking if both are at least as well off as with their initial endowments\n",
    "        if uA_new >= uA_initial and uB_new >= uB_initial:\n",
    "            pareto_set.append((xA1, xA2))\n",
    "\n",
    "# Extracting the Pareto improvement allocations\n",
    "pareto_xA1, pareto_xA2 = zip(*pareto_set)\n",
    "\n",
    "# Plotting the Edgeworth Box with Pareto improvements\n",
    "plt.figure(figsize=(8, 6))\n",
    "plt.scatter(pareto_xA1, pareto_xA2, color='blue', label='Pareto Improvements')\n",
    "plt.title('Edgeworth Box Showing Pareto Improvements')\n",
    "plt.xlabel('$x_{A1}$')\n",
    "plt.ylabel('$x_{A2}$')\n",
    "plt.grid(True)\n",
    "plt.legend()\n",
    "plt.show()"
   ]
  }
 ],
 "metadata": {
  "kernelspec": {
   "display_name": "base",
   "language": "python",
   "name": "python3"
  },
  "language_info": {
   "codemirror_mode": {
    "name": "ipython",
    "version": 3
   },
   "file_extension": ".py",
   "mimetype": "text/x-python",
   "name": "python",
   "nbconvert_exporter": "python",
   "pygments_lexer": "ipython3",
   "version": "3.11.7"
  }
 },
 "nbformat": 4,
 "nbformat_minor": 2
}

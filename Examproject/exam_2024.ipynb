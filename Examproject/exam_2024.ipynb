{
 "cells": [
  {
   "cell_type": "markdown",
   "metadata": {},
   "source": [
    "**Table of contents**<a id='toc0_'></a>    \n",
    "- 1. [Problem 1: Production economy and CO2 taxation](#toc1_)    \n",
    "- 2. [Problem 2: Career choice model](#toc2_)    \n",
    "- 3. [Problem 3: Barycentric interpolation](#toc3_)    \n",
    "\n",
    "<!-- vscode-jupyter-toc-config\n",
    "\tnumbering=true\n",
    "\tanchor=true\n",
    "\tflat=false\n",
    "\tminLevel=2\n",
    "\tmaxLevel=6\n",
    "\t/vscode-jupyter-toc-config -->\n",
    "<!-- THIS CELL WILL BE REPLACED ON TOC UPDATE. DO NOT WRITE YOUR TEXT IN THIS CELL -->"
   ]
  },
  {
   "cell_type": "code",
   "execution_count": 41,
   "metadata": {},
   "outputs": [],
   "source": [
    "# Write your code here\n",
    "import numpy as np\n",
    "from types import SimpleNamespace\n",
    "from Examproject import ProductionEconomy\n",
    "model = ProductionEconomy"
   ]
  },
  {
   "cell_type": "markdown",
   "metadata": {},
   "source": [
    "## 1. <a id='toc1_'></a>[Problem 1: Production economy and CO2 taxation](#toc0_)"
   ]
  },
  {
   "cell_type": "markdown",
   "metadata": {},
   "source": [
    "Consider a production economy with two firms indexed by $j \\in \\{1,2\\}$. Each produce its own good. They solve\n",
    "\n",
    "$$\n",
    "\\begin{align*}\n",
    "\\max_{y_{j}}\\pi_{j}&=p_{j}y_{j}-w_{j}\\ell_{j}\\\\\\text{s.t.}\\;&y_{j}=A\\ell_{j}^{\\gamma}.\n",
    "\\end{align*}\n",
    "$$\n",
    "\n",
    "Optimal firm behavior is\n",
    "\n",
    "$$\n",
    "\\begin{align*}\n",
    "\\ell_{j}^{\\star}(w,p_{j})&=\\left(\\frac{p_{j}A\\gamma}{w}\\right)^{\\frac{1}{1-\\gamma}} \\\\\n",
    "y_{j}^{\\star}(w,p_{j})&=A\\left(\\ell_{j}^{\\star}(w,p_{j})\\right)^{\\gamma}\n",
    "\\end{align*}\n",
    "$$\n",
    "\n",
    "The implied profits are\n",
    "\n",
    "$$\n",
    "\\pi_{j}^*(w,p_{j})=\\frac{1-\\gamma}{\\gamma}w\\cdot\\left(\\frac{p_{j}A\\gamma}{w}\\right)^{\\frac{1}{1-\\gamma}}\n",
    "$$\n",
    "\n",
    "A single consumer supplies labor, and consumes the goods the firms produce. She also recieves the implied profits of the firm.<br>\n",
    "She solves:\n",
    "\n",
    "$$\n",
    "\\begin{align*}\n",
    "U(p_1,p_2,w,\\tau,T) = \\max_{c_{1},c_{2},\\ell} & \\log(c_{1}^{\\alpha}c_{2}^{1-\\alpha})-\\nu\\frac{\\ell^{1+\\epsilon}}{1+\\epsilon} \\\\\n",
    "\\text{s.t.}\\,\\,\\,&p_{1}c_{1}+(p_{2}+\\tau)c_{2}=w\\ell+T+\\pi_{1}^*(w,p_{1})+\\pi_{2}^*(w,p_{2})\n",
    "\\end{align*}\n",
    "$$\n",
    "\n",
    "where $\\tau$ is a tax and $T$ is lump-sum transfer. <br>\n",
    "For a given $\\ell$, it can be shown that optimal behavior is\n",
    "\n",
    "$$\n",
    "\\begin{align*}\n",
    "c_{1}(\\ell)&=\\alpha\\frac{w\\ell+T+\\pi_{1}^*(w,p_{1})+\\pi_{2}^*(w,p_{2})}{p_{1}} \\\\\n",
    "c_{2}(\\ell)&=(1-\\alpha)\\frac{w\\ell+T+\\pi_{1}^*(w,p_{1})+\\pi_{2}^*(w,p_{2})}{p_{2}+\\tau} \\\\\n",
    "\\end{align*}\n",
    "$$\n",
    "Such that optimal behavior is:\n",
    "$$\n",
    "\\ell^* = \\underset{\\ell}{\\arg\\max} \\log(\\left(c_{1}(\\ell)\\right)^{\\alpha}\\cdot \\left(c_{2}(\\ell)\\right)^{1-\\alpha})-\\nu\\frac{\\ell^{1+\\epsilon}}{1+\\epsilon} \n",
    "$$\n",
    "With optimal consumption:\n",
    "$$\n",
    "\\begin{align*}\n",
    "c_1^*=c_{1}(\\ell^*) \\\\\n",
    "c_2^*=c_{2}(\\ell^*)\\\\\n",
    "\\end{align*}\n",
    "$$\n",
    "\n",
    "\n",
    "The government chooses $\\tau$ and balances its budget so $T=\\tau c_2^*$. We initially set $\\tau,T=0$.\n",
    "\n",
    "Market clearing requires:\n",
    "\n",
    "1. Labor market: $\\ell^* = \\ell_1^* + \\ell_2^*$\n",
    "1. Good market 1: $c_1^* = y_1^*$\n",
    "1. Good market 2: $c_2^* = y_2^*$\n"
   ]
  },
  {
   "cell_type": "markdown",
   "metadata": {},
   "source": [
    "**Question 1:** Check market clearing conditions for $p_1$ in `linspace(0.1,2.0,10)` and $p_2$ in `linspace(0.1,2.0,10)`. We choose $w=1$ as numeraire."
   ]
  },
  {
   "cell_type": "code",
   "execution_count": 42,
   "metadata": {},
   "outputs": [
    {
     "name": "stdout",
     "output_type": "stream",
     "text": [
      "p1: 0.10, p2: 0.10 - Labor Market Clear: False, Goods Market Clear: False\n",
      "p1: 0.10, p2: 0.31 - Labor Market Clear: False, Goods Market Clear: False\n",
      "p1: 0.10, p2: 0.52 - Labor Market Clear: False, Goods Market Clear: False\n",
      "p1: 0.10, p2: 0.73 - Labor Market Clear: False, Goods Market Clear: False\n",
      "p1: 0.10, p2: 0.94 - Labor Market Clear: False, Goods Market Clear: False\n",
      "p1: 0.10, p2: 1.16 - Labor Market Clear: False, Goods Market Clear: False\n",
      "p1: 0.10, p2: 1.37 - Labor Market Clear: False, Goods Market Clear: False\n",
      "p1: 0.10, p2: 1.58 - Labor Market Clear: False, Goods Market Clear: False\n",
      "p1: 0.10, p2: 1.79 - Labor Market Clear: False, Goods Market Clear: False\n",
      "p1: 0.10, p2: 2.00 - Labor Market Clear: False, Goods Market Clear: False\n",
      "p1: 0.31, p2: 0.10 - Labor Market Clear: False, Goods Market Clear: False\n",
      "p1: 0.31, p2: 0.31 - Labor Market Clear: False, Goods Market Clear: False\n",
      "p1: 0.31, p2: 0.52 - Labor Market Clear: False, Goods Market Clear: False\n",
      "p1: 0.31, p2: 0.73 - Labor Market Clear: False, Goods Market Clear: False\n",
      "p1: 0.31, p2: 0.94 - Labor Market Clear: False, Goods Market Clear: False\n",
      "p1: 0.31, p2: 1.16 - Labor Market Clear: False, Goods Market Clear: False\n",
      "p1: 0.31, p2: 1.37 - Labor Market Clear: False, Goods Market Clear: False\n",
      "p1: 0.31, p2: 1.58 - Labor Market Clear: False, Goods Market Clear: False\n",
      "p1: 0.31, p2: 1.79 - Labor Market Clear: False, Goods Market Clear: False\n",
      "p1: 0.31, p2: 2.00 - Labor Market Clear: False, Goods Market Clear: False\n",
      "p1: 0.52, p2: 0.10 - Labor Market Clear: False, Goods Market Clear: False\n",
      "p1: 0.52, p2: 0.31 - Labor Market Clear: False, Goods Market Clear: False\n",
      "p1: 0.52, p2: 0.52 - Labor Market Clear: False, Goods Market Clear: False\n",
      "p1: 0.52, p2: 0.73 - Labor Market Clear: False, Goods Market Clear: False\n",
      "p1: 0.52, p2: 0.94 - Labor Market Clear: False, Goods Market Clear: False\n",
      "p1: 0.52, p2: 1.16 - Labor Market Clear: False, Goods Market Clear: False\n",
      "p1: 0.52, p2: 1.37 - Labor Market Clear: False, Goods Market Clear: False\n",
      "p1: 0.52, p2: 1.58 - Labor Market Clear: False, Goods Market Clear: False\n",
      "p1: 0.52, p2: 1.79 - Labor Market Clear: False, Goods Market Clear: False\n",
      "p1: 0.52, p2: 2.00 - Labor Market Clear: False, Goods Market Clear: False\n",
      "p1: 0.73, p2: 0.10 - Labor Market Clear: False, Goods Market Clear: False\n",
      "p1: 0.73, p2: 0.31 - Labor Market Clear: False, Goods Market Clear: False\n",
      "p1: 0.73, p2: 0.52 - Labor Market Clear: False, Goods Market Clear: False\n",
      "p1: 0.73, p2: 0.73 - Labor Market Clear: False, Goods Market Clear: False\n",
      "p1: 0.73, p2: 0.94 - Labor Market Clear: False, Goods Market Clear: False\n",
      "p1: 0.73, p2: 1.16 - Labor Market Clear: False, Goods Market Clear: False\n",
      "p1: 0.73, p2: 1.37 - Labor Market Clear: False, Goods Market Clear: False\n",
      "p1: 0.73, p2: 1.58 - Labor Market Clear: False, Goods Market Clear: False\n",
      "p1: 0.73, p2: 1.79 - Labor Market Clear: False, Goods Market Clear: False\n",
      "p1: 0.73, p2: 2.00 - Labor Market Clear: False, Goods Market Clear: False\n",
      "p1: 0.94, p2: 0.10 - Labor Market Clear: False, Goods Market Clear: False\n",
      "p1: 0.94, p2: 0.31 - Labor Market Clear: False, Goods Market Clear: False\n",
      "p1: 0.94, p2: 0.52 - Labor Market Clear: False, Goods Market Clear: False\n",
      "p1: 0.94, p2: 0.73 - Labor Market Clear: False, Goods Market Clear: False\n",
      "p1: 0.94, p2: 0.94 - Labor Market Clear: False, Goods Market Clear: False\n",
      "p1: 0.94, p2: 1.16 - Labor Market Clear: False, Goods Market Clear: False\n",
      "p1: 0.94, p2: 1.37 - Labor Market Clear: False, Goods Market Clear: False\n",
      "p1: 0.94, p2: 1.58 - Labor Market Clear: False, Goods Market Clear: False\n",
      "p1: 0.94, p2: 1.79 - Labor Market Clear: False, Goods Market Clear: False\n",
      "p1: 0.94, p2: 2.00 - Labor Market Clear: False, Goods Market Clear: False\n",
      "p1: 1.16, p2: 0.10 - Labor Market Clear: False, Goods Market Clear: False\n",
      "p1: 1.16, p2: 0.31 - Labor Market Clear: False, Goods Market Clear: False\n",
      "p1: 1.16, p2: 0.52 - Labor Market Clear: False, Goods Market Clear: False\n",
      "p1: 1.16, p2: 0.73 - Labor Market Clear: False, Goods Market Clear: False\n",
      "p1: 1.16, p2: 0.94 - Labor Market Clear: False, Goods Market Clear: False\n",
      "p1: 1.16, p2: 1.16 - Labor Market Clear: False, Goods Market Clear: False\n",
      "p1: 1.16, p2: 1.37 - Labor Market Clear: False, Goods Market Clear: False\n",
      "p1: 1.16, p2: 1.58 - Labor Market Clear: False, Goods Market Clear: False\n",
      "p1: 1.16, p2: 1.79 - Labor Market Clear: False, Goods Market Clear: False\n",
      "p1: 1.16, p2: 2.00 - Labor Market Clear: False, Goods Market Clear: False\n",
      "p1: 1.37, p2: 0.10 - Labor Market Clear: False, Goods Market Clear: False\n",
      "p1: 1.37, p2: 0.31 - Labor Market Clear: False, Goods Market Clear: False\n",
      "p1: 1.37, p2: 0.52 - Labor Market Clear: False, Goods Market Clear: False\n",
      "p1: 1.37, p2: 0.73 - Labor Market Clear: False, Goods Market Clear: False\n",
      "p1: 1.37, p2: 0.94 - Labor Market Clear: False, Goods Market Clear: False\n",
      "p1: 1.37, p2: 1.16 - Labor Market Clear: False, Goods Market Clear: False\n",
      "p1: 1.37, p2: 1.37 - Labor Market Clear: False, Goods Market Clear: False\n",
      "p1: 1.37, p2: 1.58 - Labor Market Clear: False, Goods Market Clear: False\n",
      "p1: 1.37, p2: 1.79 - Labor Market Clear: False, Goods Market Clear: False\n",
      "p1: 1.37, p2: 2.00 - Labor Market Clear: False, Goods Market Clear: False\n",
      "p1: 1.58, p2: 0.10 - Labor Market Clear: False, Goods Market Clear: False\n",
      "p1: 1.58, p2: 0.31 - Labor Market Clear: False, Goods Market Clear: False\n",
      "p1: 1.58, p2: 0.52 - Labor Market Clear: False, Goods Market Clear: False\n",
      "p1: 1.58, p2: 0.73 - Labor Market Clear: False, Goods Market Clear: False\n",
      "p1: 1.58, p2: 0.94 - Labor Market Clear: False, Goods Market Clear: False\n",
      "p1: 1.58, p2: 1.16 - Labor Market Clear: False, Goods Market Clear: False\n",
      "p1: 1.58, p2: 1.37 - Labor Market Clear: False, Goods Market Clear: False\n",
      "p1: 1.58, p2: 1.58 - Labor Market Clear: False, Goods Market Clear: False\n",
      "p1: 1.58, p2: 1.79 - Labor Market Clear: False, Goods Market Clear: False\n",
      "p1: 1.58, p2: 2.00 - Labor Market Clear: False, Goods Market Clear: False\n",
      "p1: 1.79, p2: 0.10 - Labor Market Clear: False, Goods Market Clear: False\n",
      "p1: 1.79, p2: 0.31 - Labor Market Clear: False, Goods Market Clear: False\n",
      "p1: 1.79, p2: 0.52 - Labor Market Clear: False, Goods Market Clear: False\n",
      "p1: 1.79, p2: 0.73 - Labor Market Clear: False, Goods Market Clear: False\n",
      "p1: 1.79, p2: 0.94 - Labor Market Clear: False, Goods Market Clear: False\n",
      "p1: 1.79, p2: 1.16 - Labor Market Clear: False, Goods Market Clear: False\n",
      "p1: 1.79, p2: 1.37 - Labor Market Clear: False, Goods Market Clear: False\n",
      "p1: 1.79, p2: 1.58 - Labor Market Clear: False, Goods Market Clear: False\n",
      "p1: 1.79, p2: 1.79 - Labor Market Clear: False, Goods Market Clear: False\n",
      "p1: 1.79, p2: 2.00 - Labor Market Clear: False, Goods Market Clear: False\n",
      "p1: 2.00, p2: 0.10 - Labor Market Clear: False, Goods Market Clear: False\n",
      "p1: 2.00, p2: 0.31 - Labor Market Clear: False, Goods Market Clear: False\n",
      "p1: 2.00, p2: 0.52 - Labor Market Clear: False, Goods Market Clear: False\n",
      "p1: 2.00, p2: 0.73 - Labor Market Clear: False, Goods Market Clear: False\n",
      "p1: 2.00, p2: 0.94 - Labor Market Clear: False, Goods Market Clear: False\n",
      "p1: 2.00, p2: 1.16 - Labor Market Clear: False, Goods Market Clear: False\n",
      "p1: 2.00, p2: 1.37 - Labor Market Clear: False, Goods Market Clear: False\n",
      "p1: 2.00, p2: 1.58 - Labor Market Clear: False, Goods Market Clear: False\n",
      "p1: 2.00, p2: 1.79 - Labor Market Clear: False, Goods Market Clear: False\n",
      "p1: 2.00, p2: 2.00 - Labor Market Clear: False, Goods Market Clear: False\n"
     ]
    }
   ],
   "source": [
    "# Write your code here\n",
    "import numpy as np\n",
    "from types import SimpleNamespace\n",
    "from Examproject import ProductionEconomy\n",
    "\n",
    "# Initialize parameters\n",
    "par = SimpleNamespace()\n",
    "\n",
    "# firms\n",
    "par.A = 1.0\n",
    "par.gamma = 0.5\n",
    "\n",
    "# households\n",
    "par.alpha = 0.3\n",
    "par.nu = 1.0\n",
    "par.epsilon = 2.0\n",
    "\n",
    "# government\n",
    "par.tau = 0.0\n",
    "par.T = 0.0\n",
    "\n",
    "# Initialize the economy with parameters\n",
    "model = ProductionEconomy(A=par.A, gamma=par.gamma, alpha=par.alpha, nu=par.nu, epsilon=par.epsilon)\n",
    "\n",
    "# Setting parameters\n",
    "w = 1  # Wage (numeraire)\n",
    "\n",
    "# Function to check market clearing\n",
    "def check_market_clearing(model, p1_values, p2_values, w, tau, T):\n",
    "    results = []\n",
    "    for p1 in p1_values:\n",
    "        for p2 in p2_values:\n",
    "            ell_opt = model.consumer_optimal_labor(p1, p2, w, tau, T)\n",
    "            c1, c2, income = model.consumer_budget(p1, p2, w, tau, T, ell_opt)\n",
    "            y1 = model.firm_output(w, p1)\n",
    "            y2 = model.firm_output(w, p2)\n",
    "            labor_demand_total = model.firm_labor_demand(w, p1) + model.firm_labor_demand(w, p2)\n",
    "            labor_market_clear = np.isclose(ell_opt, labor_demand_total)\n",
    "            goods_market_clear = np.isclose(c1, y1) and np.isclose(c2, y2)\n",
    "            results.append((p1, p2, labor_market_clear, goods_market_clear))\n",
    "    return results\n",
    "\n",
    "# Define the ranges for p1 and p2\n",
    "p1_values = np.linspace(0.1, 2.0, 10)\n",
    "p2_values = np.linspace(0.1, 2.0, 10)\n",
    "\n",
    "# Check market clearing conditions\n",
    "results = check_market_clearing(model, p1_values, p2_values, w, par.tau, par.T)\n",
    "\n",
    "# Print the results\n",
    "for result in results:\n",
    "    p1, p2, labor_market_clear, goods_market_clear = result\n",
    "    print(f\"p1: {p1:.2f}, p2: {p2:.2f} - Labor Market Clear: {labor_market_clear}, Goods Market Clear: {goods_market_clear}\")\n"
   ]
  },
  {
   "cell_type": "markdown",
   "metadata": {},
   "source": [
    "**Question 2:** Find the equilibrium prices $p_1$ and $p_2$.<br>\n",
    "*Hint: you can use Walras' law to only check 2 of the market clearings*"
   ]
  },
  {
   "cell_type": "code",
   "execution_count": 43,
   "metadata": {},
   "outputs": [
    {
     "name": "stdout",
     "output_type": "stream",
     "text": [
      "p1: 0.10, p2: 0.10 - Labor Market Clear: False, Goods Market Clear: False\n",
      "p1: 0.10, p2: 0.31 - Labor Market Clear: False, Goods Market Clear: False\n",
      "p1: 0.10, p2: 0.52 - Labor Market Clear: False, Goods Market Clear: False\n",
      "p1: 0.10, p2: 0.73 - Labor Market Clear: False, Goods Market Clear: False\n",
      "p1: 0.10, p2: 0.94 - Labor Market Clear: False, Goods Market Clear: False\n",
      "p1: 0.10, p2: 1.16 - Labor Market Clear: False, Goods Market Clear: False\n",
      "p1: 0.10, p2: 1.37 - Labor Market Clear: False, Goods Market Clear: False\n",
      "p1: 0.10, p2: 1.58 - Labor Market Clear: False, Goods Market Clear: False\n",
      "p1: 0.10, p2: 1.79 - Labor Market Clear: False, Goods Market Clear: False\n",
      "p1: 0.10, p2: 2.00 - Labor Market Clear: False, Goods Market Clear: False\n",
      "p1: 0.31, p2: 0.10 - Labor Market Clear: False, Goods Market Clear: False\n",
      "p1: 0.31, p2: 0.31 - Labor Market Clear: False, Goods Market Clear: False\n",
      "p1: 0.31, p2: 0.52 - Labor Market Clear: False, Goods Market Clear: False\n",
      "p1: 0.31, p2: 0.73 - Labor Market Clear: False, Goods Market Clear: False\n",
      "p1: 0.31, p2: 0.94 - Labor Market Clear: False, Goods Market Clear: False\n",
      "p1: 0.31, p2: 1.16 - Labor Market Clear: False, Goods Market Clear: False\n",
      "p1: 0.31, p2: 1.37 - Labor Market Clear: False, Goods Market Clear: False\n",
      "p1: 0.31, p2: 1.58 - Labor Market Clear: False, Goods Market Clear: False\n",
      "p1: 0.31, p2: 1.79 - Labor Market Clear: False, Goods Market Clear: False\n",
      "p1: 0.31, p2: 2.00 - Labor Market Clear: False, Goods Market Clear: False\n",
      "p1: 0.52, p2: 0.10 - Labor Market Clear: False, Goods Market Clear: False\n",
      "p1: 0.52, p2: 0.31 - Labor Market Clear: False, Goods Market Clear: False\n",
      "p1: 0.52, p2: 0.52 - Labor Market Clear: False, Goods Market Clear: False\n",
      "p1: 0.52, p2: 0.73 - Labor Market Clear: False, Goods Market Clear: False\n",
      "p1: 0.52, p2: 0.94 - Labor Market Clear: False, Goods Market Clear: False\n",
      "p1: 0.52, p2: 1.16 - Labor Market Clear: False, Goods Market Clear: False\n",
      "p1: 0.52, p2: 1.37 - Labor Market Clear: False, Goods Market Clear: False\n",
      "p1: 0.52, p2: 1.58 - Labor Market Clear: False, Goods Market Clear: False\n",
      "p1: 0.52, p2: 1.79 - Labor Market Clear: False, Goods Market Clear: False\n",
      "p1: 0.52, p2: 2.00 - Labor Market Clear: False, Goods Market Clear: False\n",
      "p1: 0.73, p2: 0.10 - Labor Market Clear: False, Goods Market Clear: False\n",
      "p1: 0.73, p2: 0.31 - Labor Market Clear: False, Goods Market Clear: False\n",
      "p1: 0.73, p2: 0.52 - Labor Market Clear: False, Goods Market Clear: False\n",
      "p1: 0.73, p2: 0.73 - Labor Market Clear: False, Goods Market Clear: False\n",
      "p1: 0.73, p2: 0.94 - Labor Market Clear: False, Goods Market Clear: False\n",
      "p1: 0.73, p2: 1.16 - Labor Market Clear: False, Goods Market Clear: False\n",
      "p1: 0.73, p2: 1.37 - Labor Market Clear: False, Goods Market Clear: False\n",
      "p1: 0.73, p2: 1.58 - Labor Market Clear: False, Goods Market Clear: False\n",
      "p1: 0.73, p2: 1.79 - Labor Market Clear: False, Goods Market Clear: False\n",
      "p1: 0.73, p2: 2.00 - Labor Market Clear: False, Goods Market Clear: False\n",
      "p1: 0.94, p2: 0.10 - Labor Market Clear: False, Goods Market Clear: False\n",
      "p1: 0.94, p2: 0.31 - Labor Market Clear: False, Goods Market Clear: False\n",
      "p1: 0.94, p2: 0.52 - Labor Market Clear: False, Goods Market Clear: False\n",
      "p1: 0.94, p2: 0.73 - Labor Market Clear: False, Goods Market Clear: False\n",
      "p1: 0.94, p2: 0.94 - Labor Market Clear: False, Goods Market Clear: False\n",
      "p1: 0.94, p2: 1.16 - Labor Market Clear: False, Goods Market Clear: False\n",
      "p1: 0.94, p2: 1.37 - Labor Market Clear: False, Goods Market Clear: False\n",
      "p1: 0.94, p2: 1.58 - Labor Market Clear: False, Goods Market Clear: False\n",
      "p1: 0.94, p2: 1.79 - Labor Market Clear: False, Goods Market Clear: False\n",
      "p1: 0.94, p2: 2.00 - Labor Market Clear: False, Goods Market Clear: False\n",
      "p1: 1.16, p2: 0.10 - Labor Market Clear: False, Goods Market Clear: False\n",
      "p1: 1.16, p2: 0.31 - Labor Market Clear: False, Goods Market Clear: False\n",
      "p1: 1.16, p2: 0.52 - Labor Market Clear: False, Goods Market Clear: False\n",
      "p1: 1.16, p2: 0.73 - Labor Market Clear: False, Goods Market Clear: False\n",
      "p1: 1.16, p2: 0.94 - Labor Market Clear: False, Goods Market Clear: False\n",
      "p1: 1.16, p2: 1.16 - Labor Market Clear: False, Goods Market Clear: False\n",
      "p1: 1.16, p2: 1.37 - Labor Market Clear: False, Goods Market Clear: False\n",
      "p1: 1.16, p2: 1.58 - Labor Market Clear: False, Goods Market Clear: False\n",
      "p1: 1.16, p2: 1.79 - Labor Market Clear: False, Goods Market Clear: False\n",
      "p1: 1.16, p2: 2.00 - Labor Market Clear: False, Goods Market Clear: False\n",
      "p1: 1.37, p2: 0.10 - Labor Market Clear: False, Goods Market Clear: False\n",
      "p1: 1.37, p2: 0.31 - Labor Market Clear: False, Goods Market Clear: False\n",
      "p1: 1.37, p2: 0.52 - Labor Market Clear: False, Goods Market Clear: False\n",
      "p1: 1.37, p2: 0.73 - Labor Market Clear: False, Goods Market Clear: False\n",
      "p1: 1.37, p2: 0.94 - Labor Market Clear: False, Goods Market Clear: False\n",
      "p1: 1.37, p2: 1.16 - Labor Market Clear: False, Goods Market Clear: False\n",
      "p1: 1.37, p2: 1.37 - Labor Market Clear: False, Goods Market Clear: False\n",
      "p1: 1.37, p2: 1.58 - Labor Market Clear: False, Goods Market Clear: False\n",
      "p1: 1.37, p2: 1.79 - Labor Market Clear: False, Goods Market Clear: False\n",
      "p1: 1.37, p2: 2.00 - Labor Market Clear: False, Goods Market Clear: False\n",
      "p1: 1.58, p2: 0.10 - Labor Market Clear: False, Goods Market Clear: False\n",
      "p1: 1.58, p2: 0.31 - Labor Market Clear: False, Goods Market Clear: False\n",
      "p1: 1.58, p2: 0.52 - Labor Market Clear: False, Goods Market Clear: False\n",
      "p1: 1.58, p2: 0.73 - Labor Market Clear: False, Goods Market Clear: False\n",
      "p1: 1.58, p2: 0.94 - Labor Market Clear: False, Goods Market Clear: False\n",
      "p1: 1.58, p2: 1.16 - Labor Market Clear: False, Goods Market Clear: False\n",
      "p1: 1.58, p2: 1.37 - Labor Market Clear: False, Goods Market Clear: False\n",
      "p1: 1.58, p2: 1.58 - Labor Market Clear: False, Goods Market Clear: False\n",
      "p1: 1.58, p2: 1.79 - Labor Market Clear: False, Goods Market Clear: False\n",
      "p1: 1.58, p2: 2.00 - Labor Market Clear: False, Goods Market Clear: False\n",
      "p1: 1.79, p2: 0.10 - Labor Market Clear: False, Goods Market Clear: False\n",
      "p1: 1.79, p2: 0.31 - Labor Market Clear: False, Goods Market Clear: False\n",
      "p1: 1.79, p2: 0.52 - Labor Market Clear: False, Goods Market Clear: False\n",
      "p1: 1.79, p2: 0.73 - Labor Market Clear: False, Goods Market Clear: False\n",
      "p1: 1.79, p2: 0.94 - Labor Market Clear: False, Goods Market Clear: False\n",
      "p1: 1.79, p2: 1.16 - Labor Market Clear: False, Goods Market Clear: False\n",
      "p1: 1.79, p2: 1.37 - Labor Market Clear: False, Goods Market Clear: False\n",
      "p1: 1.79, p2: 1.58 - Labor Market Clear: False, Goods Market Clear: False\n",
      "p1: 1.79, p2: 1.79 - Labor Market Clear: False, Goods Market Clear: False\n",
      "p1: 1.79, p2: 2.00 - Labor Market Clear: False, Goods Market Clear: False\n",
      "p1: 2.00, p2: 0.10 - Labor Market Clear: False, Goods Market Clear: False\n",
      "p1: 2.00, p2: 0.31 - Labor Market Clear: False, Goods Market Clear: False\n",
      "p1: 2.00, p2: 0.52 - Labor Market Clear: False, Goods Market Clear: False\n",
      "p1: 2.00, p2: 0.73 - Labor Market Clear: False, Goods Market Clear: False\n",
      "p1: 2.00, p2: 0.94 - Labor Market Clear: False, Goods Market Clear: False\n",
      "p1: 2.00, p2: 1.16 - Labor Market Clear: False, Goods Market Clear: False\n",
      "p1: 2.00, p2: 1.37 - Labor Market Clear: False, Goods Market Clear: False\n",
      "p1: 2.00, p2: 1.58 - Labor Market Clear: False, Goods Market Clear: False\n",
      "p1: 2.00, p2: 1.79 - Labor Market Clear: False, Goods Market Clear: False\n",
      "p1: 2.00, p2: 2.00 - Labor Market Clear: False, Goods Market Clear: False\n",
      "The market clearing prices are p1: 0.9444, p2: 1.5778\n"
     ]
    }
   ],
   "source": [
    "\n",
    "# Function to check market clearing\n",
    "def check_market_clearing(model, p1_values, p2_values, w, tau, T):\n",
    "    results = []\n",
    "    errors_1 = []\n",
    "    errors_2 = []\n",
    "    for p1 in p1_values:\n",
    "        for p2 in p2_values:\n",
    "            ell_opt = model.consumer_optimal_labor(p1, p2, w, tau, T)\n",
    "            c1, c2, income = model.consumer_budget(p1, p2, w, tau, T, ell_opt)\n",
    "            y1 = model.firm_output(w, p1)\n",
    "            y2 = model.firm_output(w, p2)\n",
    "            labor_demand_total = model.firm_labor_demand(w, p1) + model.firm_labor_demand(w, p2)\n",
    "            labor_market_clear = np.isclose(ell_opt, labor_demand_total)\n",
    "            goods_market_clear = np.isclose(c1, y1) and np.isclose(c2, y2)\n",
    "            results.append((p1, p2, labor_market_clear, goods_market_clear))\n",
    "            errors_1.append(abs(ell_opt - labor_demand_total))\n",
    "            errors_2.append(abs(c1 - y1) + abs(c2 - y2))\n",
    "    combined_errors = np.array(errors_1) + np.array(errors_2)\n",
    "    min_abs_error_index = np.argmin(combined_errors)\n",
    "    market_clearing_p1 = p1_values[min_abs_error_index // len(p2_values)]\n",
    "    market_clearing_p2 = p2_values[min_abs_error_index % len(p2_values)]\n",
    "    return results, market_clearing_p1, market_clearing_p2\n",
    "\n",
    "# Define the ranges for p1 and p2\n",
    "p1_values = np.linspace(0.1, 2.0, 10)\n",
    "p2_values = np.linspace(0.1, 2.0, 10)\n",
    "\n",
    "# Check market clearing conditions and find equilibrium prices\n",
    "results, market_clearing_p1, market_clearing_p2 = check_market_clearing(model, p1_values, p2_values, w, par.tau, par.T)\n",
    "\n",
    "# Print the results\n",
    "for result in results:\n",
    "    p1, p2, labor_market_clear, goods_market_clear = result\n",
    "    print(f\"p1: {p1:.2f}, p2: {p2:.2f} - Labor Market Clear: {labor_market_clear}, Goods Market Clear: {goods_market_clear}\")\n",
    "\n",
    "# Print the market clearing prices\n",
    "print(f\"The market clearing prices are p1: {market_clearing_p1:.4f}, p2: {market_clearing_p2:.4f}\")"
   ]
  },
  {
   "cell_type": "markdown",
   "metadata": {},
   "source": [
    "Assume the government care about the social welfare function:\n",
    "\n",
    "$$\n",
    "SWF = U - \\kappa y_2^*\n",
    "$$"
   ]
  },
  {
   "cell_type": "markdown",
   "metadata": {},
   "source": [
    "Here $\\kappa$ measures the social cost of carbon emitted by the production of $y_2$ in equilibrium."
   ]
  },
  {
   "cell_type": "markdown",
   "metadata": {},
   "source": [
    "**Question 3:** What values of $\\tau$ and (implied) $T$ should the government choose to maximize $SWF$?"
   ]
  },
  {
   "cell_type": "code",
   "execution_count": 44,
   "metadata": {},
   "outputs": [
    {
     "name": "stdout",
     "output_type": "stream",
     "text": [
      "The optimal CO2 tax (tau) is: 0.0000\n",
      "The optimal lump-sum transfer (T) is: 0.0000\n",
      "The market clearing prices are p1: 0.1000, p2: 0.1000\n",
      "The maximum social welfare function value is: 1.3584\n"
     ]
    }
   ],
   "source": [
    "# Write your code here\n",
    "import numpy as np\n",
    "from types import SimpleNamespace\n",
    "from scipy.optimize import minimize\n",
    "from Examproject import ProductionEconomy\n",
    "\n",
    "# Initialize parameters\n",
    "par = SimpleNamespace()\n",
    "\n",
    "# firms\n",
    "par.A = 1.0\n",
    "par.gamma = 0.5\n",
    "\n",
    "# households\n",
    "par.alpha = 0.3\n",
    "par.nu = 1.0\n",
    "par.epsilon = 2.0\n",
    "\n",
    "# government\n",
    "par.kappa = 0.1\n",
    "\n",
    "# Initialize the economy with parameters\n",
    "model = ProductionEconomy(A=par.A, gamma=par.gamma, alpha=par.alpha, nu=par.nu, epsilon=par.epsilon)\n",
    "\n",
    "# Setting parameters\n",
    "w = 1  # Wage (numeraire)\n",
    "\n",
    "# Define the ranges for p1 and p2\n",
    "p1_values = np.linspace(0.1, 2.0, 10)\n",
    "p2_values = np.linspace(0.1, 2.0, 10)\n",
    "\n",
    "# Function to calculate SWF given tau, p1, and p2\n",
    "def calculate_swf(tau, p1, p2, model, w, kappa):\n",
    "    swf = model.SWF_function(p1, p2, w, tau, kappa)\n",
    "    return swf\n",
    "\n",
    "# Function to find the optimal tau by maximizing the SWF\n",
    "def find_optimal_tau(model, w, kappa, p1_values, p2_values):\n",
    "    def objective(tau):\n",
    "        max_swf = -np.inf\n",
    "        for p1 in p1_values:\n",
    "            for p2 in p2_values:\n",
    "                swf = calculate_swf(tau, p1, p2, model, w, kappa)\n",
    "                if swf > max_swf:\n",
    "                    max_swf = swf\n",
    "        return -max_swf  # We minimize the negative of the SWF to maximize it\n",
    "\n",
    "    result = minimize(objective, x0=0.5, bounds=[(0, 1)])\n",
    "    return result.x[0], -result.fun\n",
    "\n",
    "# Find the optimal tau that maximizes SWF\n",
    "optimal_tau, max_swf = find_optimal_tau(model, w, par.kappa, p1_values, p2_values)\n",
    "\n",
    "# Find the optimal p1 and p2 that correspond to the optimal tau\n",
    "max_swf = -np.inf\n",
    "optimal_p1 = None\n",
    "optimal_p2 = None\n",
    "for p1 in p1_values:\n",
    "    for p2 in p2_values:\n",
    "        swf = calculate_swf(optimal_tau, p1, p2, model, w, par.kappa)\n",
    "        if swf > max_swf:\n",
    "            max_swf = swf\n",
    "            optimal_p1 = p1\n",
    "            optimal_p2 = p2\n",
    "\n",
    "# Calculate the corresponding T\n",
    "optimal_T = model.calculate_T(optimal_p1, optimal_p2, w, optimal_tau)\n",
    "\n",
    "# Print the optimal tau and T\n",
    "print(f\"The optimal CO2 tax (tau) is: {optimal_tau:.4f}\")\n",
    "print(f\"The optimal lump-sum transfer (T) is: {optimal_T:.4f}\")\n",
    "\n",
    "# Print the market clearing prices at the optimal tau and T\n",
    "print(f\"The market clearing prices are p1: {optimal_p1:.4f}, p2: {optimal_p2:.4f}\")\n",
    "\n",
    "# Print the maximum social welfare function value\n",
    "print(f\"The maximum social welfare function value is: {max_swf:.4f}\")\n"
   ]
  },
  {
   "cell_type": "markdown",
   "metadata": {},
   "source": [
    "## 2. <a id='toc2_'></a>[Problem 2: Career choice model](#toc0_)"
   ]
  },
  {
   "cell_type": "markdown",
   "metadata": {},
   "source": [
    "Consider a graduate $i$ making a choice between entering $J$ different career tracks. <br>\n",
    "Entering career $j$ yields utility $u^k_{ij}$. This value is unknown to the graduate ex ante, but will ex post be: <br>\n",
    "$$\n",
    "    u_{i,j}^k = v_{j} + \\epsilon_{i,j}^k\n",
    "$$\n",
    "\n",
    "They know that $\\epsilon^k_{i,j}\\sim \\mathcal{N}(0,\\sigma^2)$, but they do not observe $\\epsilon^k_{i,j}$ before making their career choice. <br>"
   ]
  },
  {
   "cell_type": "markdown",
   "metadata": {},
   "source": [
    "Consider the concrete case of $J=3$ with:\n",
    "$$\n",
    "\\begin{align*}\n",
    "    v_{1} &= 1 \\\\\n",
    "    v_{2} &= 2 \\\\\n",
    "    v_{3} &= 3\n",
    "\\end{align*}\n",
    "$$"
   ]
  },
  {
   "cell_type": "markdown",
   "metadata": {},
   "source": [
    "If the graduates know the values of $v_j$ and the distribution of $\\epsilon_{i,j}^k$, they can calculate the expected utility of each career track using simulation: <br>\n",
    "$$\n",
    "    \\mathbb{E}\\left[ u^k_{i,j}\\vert v_j \\right] \\approx v_j + \\frac{1}{K}\\sum_{k=1}^K \\epsilon_{i,j}^k\n",
    "$$"
   ]
  },
  {
   "cell_type": "code",
   "execution_count": 45,
   "metadata": {},
   "outputs": [],
   "source": [
    "par = SimpleNamespace()\n",
    "par.J = 3\n",
    "par.N = 10\n",
    "par.K = 10000\n",
    "\n",
    "par.F = np.arange(1,par.N+1)\n",
    "par.sigma = 2\n",
    "\n",
    "par.v = np.array([1,2,3])\n",
    "par.c = 1"
   ]
  },
  {
   "cell_type": "markdown",
   "metadata": {},
   "source": [
    "**Question 1:** Simulate and calculate expected utility and the average realised utility for $K=10000$ draws, for each career choice $j$.\n"
   ]
  },
  {
   "cell_type": "code",
   "execution_count": 46,
   "metadata": {},
   "outputs": [
    {
     "name": "stdout",
     "output_type": "stream",
     "text": [
      "Expected Utilities:\n",
      " [[0.97740168 1.99857698 2.9749087 ]\n",
      " [1.00781554 2.01782981 3.00419086]\n",
      " [1.00090129 1.99761521 3.02088905]\n",
      " [1.00174332 1.96695773 2.97842377]\n",
      " [0.99684123 1.99973721 3.00288892]\n",
      " [0.99582484 2.01552622 2.99551129]\n",
      " [1.003835   1.99234597 2.97494884]\n",
      " [1.00261684 2.04042922 2.98885634]\n",
      " [1.00972276 2.02454766 3.00611065]\n",
      " [1.03483151 2.04829882 3.00982591]]\n",
      "Realized Utilities:\n",
      " [[2.97532684 3.98259513 5.01540514]\n",
      " [3.00888824 4.01937635 4.99152359]\n",
      " [3.00694872 4.01893298 4.99871663]\n",
      " [3.0001421  3.95296159 4.97311297]\n",
      " [2.98134638 3.99772005 4.97510756]\n",
      " [2.99147013 4.00450249 4.97905708]\n",
      " [3.02575499 3.97656053 4.98484881]\n",
      " [2.97685554 4.06182724 5.01773409]\n",
      " [2.99308218 4.0067015  5.00473652]\n",
      " [3.01761998 4.05260902 5.02454837]]\n"
     ]
    }
   ],
   "source": [
    "import numpy as np\n",
    "from types import SimpleNamespace\n",
    "\n",
    "# Define the parameters\n",
    "par = SimpleNamespace()\n",
    "par.J = 3  # Number of career tracks\n",
    "par.N = 10  # Number of graduates\n",
    "par.K = 10000  # Number of simulations\n",
    "\n",
    "par.F = np.arange(1, par.N + 1)  # Number of friends for each graduate\n",
    "par.sigma = 2  # Standard deviation of the noise term\n",
    "\n",
    "par.v = np.array([1, 2, 3])  # Values of each career track\n",
    "par.c = 1  # Switching cost for Question 3\n",
    "\n",
    "# Function to simulate the expected utility and average realized utility\n",
    "def simulate_utilities(par):\n",
    "    np.random.seed(0)  # For reproducibility\n",
    "    expected_utilities = np.zeros((par.N, par.J))   \n",
    "    realized_utilities = np.zeros((par.N, par.J))\n",
    "    \n",
    "    for j in range(par.J):\n",
    "        epsilon = np.random.normal(0, par.sigma, (par.K, par.N))\n",
    "        expected_utilities[:, j] = par.v[j] + epsilon.mean(axis=0)\n",
    "        realized_utilities[:, j] = par.v[j] + epsilon.mean(axis=0) + epsilon.std(axis=0)\n",
    "    \n",
    "    return expected_utilities, realized_utilities\n",
    "\n",
    "expected_utilities, realized_utilities = simulate_utilities(par)\n",
    "\n",
    "# Print the results\n",
    "print(\"Expected Utilities:\\n\", expected_utilities)\n",
    "print(\"Realized Utilities:\\n\", realized_utilities)\n"
   ]
  },
  {
   "cell_type": "markdown",
   "metadata": {},
   "source": [
    "Now consider a new scenario: Imagine that the graduate does not know $v_j$. The *only* prior information they have on the value of each job, comes from their $F_{i}$ friends that work in each career $j$. After talking with them, they know the average utility of their friends (which includes their friends' noise term), giving them the prior expecation: <br>\n",
    "$$\n",
    "\\tilde{u}^k_{i,j}\\left( F_{i}\\right) = \\frac{1}{F_{i}}\\sum_{f=1}^{F_{i}} \\left(v_{j} + \\epsilon^k_{f,j}\\right), \\; \\epsilon^k_{f,j}\\sim \\mathcal{N}(0,\\sigma^2)\n",
    "$$\n",
    "For ease of notation consider that each graduate have $F_{i}=i$ friends in each career. <br>"
   ]
  },
  {
   "cell_type": "markdown",
   "metadata": {},
   "source": [
    "For $K$ times do the following: <br>\n",
    "1. For each person $i$ draw $J\\cdot F_i$ values of $\\epsilon_{f,j}^{k}$, and calculate the prior expected utility of each career track, $\\tilde{u}^k_{i,j}\\left( F_{i}\\right)$. <br>\n",
    "Also draw their own $J$ noise terms, $\\epsilon_{i,j}^k$\n",
    "1. Each person $i$ chooses the career track with the highest expected utility: $$j_i^{k*}= \\arg\\max_{j\\in{1,2\\dots,J}}\\left\\{ \\tilde{u}^k_{i,j}\\left( F_{i}\\right)\\right\\} $$\n",
    "1. Store the chosen careers: $j_i^{k*}$, the prior expectation of the value of their chosen career: $\\tilde{u}^k_{i,j=j_i^{k*}}\\left( F_{i}\\right)$, and the realized value of their chosen career track: $u^k_{i,j=j_i^{k*}}=v_{j=j_i^{k*}}+\\epsilon_{i,j=j_i^{k*}}^k$."
   ]
  },
  {
   "cell_type": "markdown",
   "metadata": {},
   "source": [
    "Chosen values will be: <br>\n",
    "$i\\in\\left\\{1,2\\dots,N\\right\\}, N=10$ <br>\n",
    "$F_i = i$<br>\n",
    "So there are 10 graduates. The first has 1 friend in each career, the second has 2 friends, ... the tenth has 10 friends."
   ]
  },
  {
   "cell_type": "markdown",
   "metadata": {},
   "source": [
    "**Question 2:** Simulate and visualize: For each type of graduate, $i$, the share of graduates choosing each career, the average subjective expected utility of the graduates, and the average ex post realized utility given their choice. <br>\n",
    "That is, calculate and visualize: <br>\n",
    "$$\n",
    "\\begin{align*}\n",
    "    \\frac{1}{K} \\sum_{k=1}^{K} \\mathbb{I}\\left\\{ j=j_i^{k*} \\right\\}  \\;\\forall j\\in\\left\\{1,2,\\dots,J\\right\\}\n",
    "\\end{align*}\n",
    "$$\n",
    "$$\n",
    "\\begin{align*}\n",
    "    \\frac{1}{K} \\sum_{k=1}^{K} \\tilde{u}^k_{ij=j_i^{k*}}\\left( F_{i}\\right)\n",
    "\\end{align*}\n",
    "$$\n",
    "And \n",
    "$$\n",
    "\\begin{align*}\n",
    "    \\frac{1}{K} \\sum_{k=1}^{K} u^k_{ij=j_i^{k*}} \n",
    "\\end{align*}\n",
    "$$\n",
    "For each graduate $i$."
   ]
  },
  {
   "cell_type": "code",
   "execution_count": 47,
   "metadata": {},
   "outputs": [
    {
     "data": {
      "image/png": "[encoded data removed]",
      "text/plain": [
       "<Figure size 1800x600 with 3 Axes>"
      ]
     },
     "metadata": {},
     "output_type": "display_data"
    }
   ],
   "source": [
    "import matplotlib.pyplot as plt\n",
    "\n",
    "# Function to simulate the career choices and utilities for each graduate\n",
    "def simulate_career_choices(par):\n",
    "    np.random.seed(0)  # For reproducibility\n",
    "    career_choices = np.zeros(par.N, dtype=int)\n",
    "    expected_utilities = np.zeros(par.N)\n",
    "    realized_utilities = np.zeros(par.N)\n",
    "    \n",
    "    for i in range(par.N):\n",
    "        epsilon = np.random.normal(0, par.sigma, (par.K, par.J))\n",
    "        prior_expected_utility = np.zeros(par.J)    \n",
    "        \n",
    "        for j in range(par.J):\n",
    "            friend_epsilon = np.random.normal(0, par.sigma, par.F[i])\n",
    "            prior_expected_utility[j] = par.v[j] + friend_epsilon.mean()\n",
    "        \n",
    "        personal_epsilon = np.random.normal(0, par.sigma, par.J)\n",
    "        total_expected_utility = prior_expected_utility + personal_epsilon\n",
    "        career_choice = np.argmax(total_expected_utility)\n",
    "        \n",
    "        career_choices[i] = career_choice\n",
    "        expected_utilities[i] = total_expected_utility[career_choice]\n",
    "        realized_utilities[i] = par.v[career_choice] + np.random.normal(0, par.sigma)\n",
    "    \n",
    "    return career_choices, expected_utilities, realized_utilities\n",
    "\n",
    "career_choices, avg_expected_utilities, avg_realized_utilities = simulate_career_choices(par)\n",
    "\n",
    "# Visualize the results\n",
    "def visualize_results(par, career_choices, avg_expected_utilities, avg_realized_utilities):\n",
    "    fig, ax = plt.subplots(1, 3, figsize=(18, 6))\n",
    "    \n",
    "    # Share of graduates choosing each career\n",
    "    career_counts = np.bincount(career_choices, minlength=par.J)\n",
    "    ax[0].bar(range(par.J), career_counts, color=['blue', 'orange', 'green'])\n",
    "    ax[0].set_title(\"Share of Graduates Choosing Each Career\")\n",
    "    ax[0].set_xlabel(\"Career Track\")\n",
    "    ax[0].set_ylabel(\"Number of Graduates\")\n",
    "    \n",
    "    # Average expected utility\n",
    "    ax[1].bar(range(par.N), avg_expected_utilities, color='purple')\n",
    "    ax[1].set_title(\"Average Subjective Expected Utility\")\n",
    "    ax[1].set_xlabel(\"Graduate\")\n",
    "    ax[1].set_ylabel(\"Expected Utility\")\n",
    "    \n",
    "    # Average realized utility\n",
    "    ax[2].bar(range(par.N), avg_realized_utilities, color='red')\n",
    "    ax[2].set_title(\"Average Ex Post Realized Utility\")\n",
    "    ax[2].set_xlabel(\"Graduate\")\n",
    "    ax[2].set_ylabel(\"Realized Utility\")\n",
    "    \n",
    "    plt.tight_layout()\n",
    "    plt.show()\n",
    "\n",
    "visualize_results(par, career_choices, avg_expected_utilities, avg_realized_utilities)\n"
   ]
  },
  {
   "cell_type": "markdown",
   "metadata": {},
   "source": [
    "After a year of working in their career, the graduates learn $u^k_{ij}$ for their chosen job $j_i^{k*}$ perfectly. <br>\n",
    "The can switch to one of the two remaining careers, for which they have the same prior as before, but it will now include a switching cost of $c$ which is known.\n",
    "Their new priors can be written as: \n",
    "$$\n",
    "\\tilde{u}^{k,2}_{ij}\\left( F_{i}\\right) = \\begin{cases}\n",
    "            \\tilde{u}^k_{ij}\\left( F_{i}\\right)-c & \\text{if } j \\neq j_i^{k*} \\\\\n",
    "            u_{ij=j_i^{k*}} & \\text{if } j = j_i^{k*}\n",
    "        \\end{cases}\n",
    "$$"
   ]
  },
  {
   "cell_type": "markdown",
   "metadata": {},
   "source": [
    "We will set $c=1$."
   ]
  },
  {
   "cell_type": "markdown",
   "metadata": {},
   "source": [
    "Their realized utility will be: <br>\n",
    "$$\n",
    "u^{k,2}_{ij}= \\begin{cases}\n",
    "            u_{ij}^k -c & \\text{if } j \\neq j_i^{k*} \\\\\n",
    "            u_{ij=j_i^{k*}} & \\text{if } j = j_i^{k*}\n",
    "        \\end{cases}\n",
    "$$"
   ]
  },
  {
   "cell_type": "markdown",
   "metadata": {},
   "source": [
    "**Question 3:** Following the same approach as in question 2, find the new optimal career choice for each $i$, $k$. Then for each $i$, calculate the average subjective expected utility from their new optimal career choice, and the ex post realized utility of that career. Also, for each $i$, calculate the share of graduates that chooses to switch careers, conditional on which career they chose in the first year. <br>"
   ]
  },
  {
   "cell_type": "code",
   "execution_count": 48,
   "metadata": {},
   "outputs": [
    {
     "data": {
      "image/png": "[encoded data removed]",
      "text/plain": [
       "<Figure size 1800x600 with 3 Axes>"
      ]
     },
     "metadata": {},
     "output_type": "display_data"
    },
    {
     "name": "stdout",
     "output_type": "stream",
     "text": [
      "Share of graduates that chose to switch careers: 0.4\n"
     ]
    }
   ],
   "source": [
    "# Function to simulate the new optimal career choices and utilities after a year\n",
    "def simulate_new_career_choices(par, career_choices, avg_realized_utilities):\n",
    "    np.random.seed(0)  # For reproducibility\n",
    "    new_career_choices = np.zeros(par.N, dtype=int)\n",
    "    new_expected_utilities = np.zeros(par.N)\n",
    "    new_realized_utilities = np.zeros(par.N)\n",
    "    switch_decisions = np.zeros(par.N, dtype=bool)\n",
    "    \n",
    "    for i in range(par.N):\n",
    "        current_career = career_choices[i]\n",
    "        current_utility = avg_realized_utilities[i]\n",
    "        \n",
    "        new_prior_expected_utility = np.zeros(par.J)\n",
    "        for j in range(par.J):\n",
    "            friend_epsilon = np.random.normal(0, par.sigma, par.F[i])\n",
    "            new_prior_expected_utility[j] = par.v[j] + friend_epsilon.mean()\n",
    "        \n",
    "        personal_epsilon = np.random.normal(0, par.sigma, par.J)\n",
    "        total_new_expected_utility = new_prior_expected_utility + personal_epsilon\n",
    "        \n",
    "        best_new_career = np.argmax(total_new_expected_utility)\n",
    "        if best_new_career != current_career:\n",
    "            total_new_expected_utility[best_new_career] -= par.c\n",
    "        \n",
    "        new_career_choice = np.argmax(total_new_expected_utility)\n",
    "        new_career_choices[i] = new_career_choice\n",
    "        new_expected_utilities[i] = total_new_expected_utility[new_career_choice]\n",
    "        new_realized_utilities[i] = par.v[new_career_choice] + np.random.normal(0, par.sigma)\n",
    "        switch_decisions[i] = new_career_choice != current_career\n",
    "    \n",
    "    return new_career_choices, new_expected_utilities, new_realized_utilities, switch_decisions\n",
    "\n",
    "new_career_choices, new_avg_expected_utilities, new_avg_realized_utilities, switch_decisions = simulate_new_career_choices(par, career_choices, avg_realized_utilities)\n",
    "\n",
    "# Visualize the new results\n",
    "def visualize_new_results(par, new_career_choices, new_avg_expected_utilities, new_avg_realized_utilities, switch_decisions):\n",
    "    fig, ax = plt.subplots(1, 3, figsize=(18, 6))\n",
    "    \n",
    "    # Share of graduates choosing each career after switching\n",
    "    new_career_counts = np.bincount(new_career_choices, minlength=par.J)\n",
    "    ax[0].bar(range(par.J), new_career_counts, color=['blue', 'orange', 'green'])\n",
    "    ax[0].set_title(\"Share of Graduates Choosing Each Career After Switching\")\n",
    "    ax[0].set_xlabel(\"Career Track\")\n",
    "    ax[0].set_ylabel(\"Number of Graduates\")\n",
    "    \n",
    "    # Average expected utility after switching\n",
    "    ax[1].bar(range(par.N), new_avg_expected_utilities, color='purple')\n",
    "    ax[1].set_title(\"Average Subjective Expected Utility After Switching\")\n",
    "    ax[1].set_xlabel(\"Graduate\")\n",
    "    ax[1].set_ylabel(\"Expected Utility\")\n",
    "    \n",
    "    # Average realized utility after switching\n",
    "    ax[2].bar(range(par.N), new_avg_realized_utilities, color='red')\n",
    "    ax[2].set_title(\"Average Ex Post Realized Utility After Switching\")\n",
    "    ax[2].set_xlabel(\"Graduate\")\n",
    "    ax[2].set_ylabel(\"Realized Utility\")\n",
    "    \n",
    "    plt.tight_layout()\n",
    "    plt.show()\n",
    "\n",
    "visualize_new_results(par, new_career_choices, new_avg_expected_utilities, new_avg_realized_utilities, switch_decisions)\n",
    "\n",
    "# Print the share of graduates that chose to switch careers\n",
    "print(\"Share of graduates that chose to switch careers:\", np.mean(switch_decisions))\n"
   ]
  },
  {
   "cell_type": "markdown",
   "metadata": {},
   "source": [
    "## 3. <a id='toc3_'></a>[Problem 3: Barycentric interpolation](#toc0_)"
   ]
  },
  {
   "cell_type": "markdown",
   "metadata": {},
   "source": [
    "**Problem:** We have a set of random points in the unit square,\n",
    "\n",
    "$$\n",
    "\\mathcal{X} = \\{(x_1,x_2)\\,|\\,x_1\\sim\\mathcal{U}(0,1),x_2\\sim\\mathcal{U}(0,1)\\}.\n",
    "$$\n",
    "\n",
    "For these points, we know the value of some function $f(x_1,x_2)$,\n",
    "\n",
    "$$\n",
    "\\mathcal{F} = \\{f(x_1,x_2) \\,|\\, (x_1,x_2) \\in \\mathcal{X}\\}.\n",
    "$$\n",
    "\n",
    "Now we want to approximate the value $f(y_1,y_2)$ for some  $y=(y_1,y_2)$, where $y_1\\sim\\mathcal{U}(0,1)$ and $y_2\\sim\\mathcal{U}(0,1)$.\n",
    "\n",
    "**Building block I**\n",
    "\n",
    "For an arbitrary triangle $ABC$ and a point $y$, define the so-called barycentric coordinates as:\n",
    "\n",
    "$$\n",
    "\\begin{align*}\n",
    "  r^{ABC}_1 &= \\frac{(B_2-C_2)(y_1-C_1) + (C_1-B_1)(y_2-C_2)}{(B_2-C_2)(A_1-C_1) + (C_1-B_1)(A_2-C_2)} \\\\\n",
    "  r^{ABC}_2 &= \\frac{(C_2-A_2)(y_1-C_1) + (A_1-C_1)(y_2-C_2)}{(B_2-C_2)(A_1-C_1) + (C_1-B_1)(A_2-C_2)} \\\\\n",
    "  r^{ABC}_3 &= 1 - r_1 - r_2.\n",
    "\\end{align*}\n",
    "$$\n",
    "\n",
    "If $r^{ABC}_1 \\in [0,1]$, $r^{ABC}_2 \\in [0,1]$, and $r^{ABC}_3 \\in [0,1]$, then the point is inside the triangle.\n",
    "\n",
    "We always have $y = r^{ABC}_1 A + r^{ABC}_2 B + r^{ABC}_3 C$.\n",
    "\n",
    "**Building block II**\n",
    "\n",
    "Define the following points:\n",
    "\n",
    "$$\n",
    "\\begin{align*}\n",
    "A&=\\arg\\min_{(x_{1},x_{2})\\in\\mathcal{X}}\\sqrt{\\left(x_{1}-y_{1}\\right)^{2}+\\left(x_{2}-y_{2}\\right)^{2}}\\text{ s.t. }x_{1}>y_{1}\\text{ and }x_{2}>y_{2}\\\\\n",
    "B&=\\arg\\min_{(x_{1},x_{2})\\in\\mathcal{X}}\\sqrt{\\left(x_{1}-y_{1}\\right)^{2}+\\left(x_{2}-y_{2}\\right)^{2}}\\text{ s.t. }x_{1}>y_{1}\\text{ and }x_{2}<y_{2}\\\\\n",
    "C&=\\arg\\min_{(x_{1},x_{2})\\in\\mathcal{X}}\\sqrt{\\left(x_{1}-y_{1}\\right)^{2}+\\left(x_{2}-y_{2}\\right)^{2}}\\text{ s.t. }x_{1}<y_{1}\\text{ and }x_{2}<y_{2}\\\\\n",
    "D&=\\arg\\min_{(x_{1},x_{2})\\in\\mathcal{X}}\\sqrt{\\left(x_{1}-y_{1}\\right)^{2}+\\left(x_{2}-y_{2}\\right)^{2}}\\text{ s.t. }x_{1}<y_{1}\\text{ and }x_{2}>y_{2}.\n",
    "\\end{align*}\n",
    "$$\n",
    "\n",
    "**Algorithm:**\n",
    "\n",
    "1. Compute $A$, $B$, $C$, and $D$. If not possible return `NaN`.\n",
    "1. If $y$ is inside the triangle $ABC$ return $r^{ABC}_1 f(A) + r^{ABC}_2 f(B) + r^{ABC}_3 f(C)$.\n",
    "1. If $y$ is inside the triangle $CDA$ return $r^{CDA}_1 f(C) + r^{CDA}_2 f(D) + r^{CDA}_3 f(A)$.\n",
    "1. Return `NaN`.\n",
    "\n"
   ]
  },
  {
   "cell_type": "markdown",
   "metadata": {},
   "source": [
    "**Sample:**"
   ]
  },
  {
   "cell_type": "code",
   "execution_count": 49,
   "metadata": {},
   "outputs": [],
   "source": [
    "rng = np.random.default_rng(2024)\n",
    "\n",
    "X = rng.uniform(size=(50,2))\n",
    "y = rng.uniform(size=(2,))\n"
   ]
  },
  {
   "cell_type": "markdown",
   "metadata": {},
   "source": [
    "**Questions 1:** Find $A$, $B$, $C$ and $D$. Illustrate these together with $X$, $y$ and the triangles $ABC$ and $CDA$."
   ]
  },
  {
   "cell_type": "code",
   "execution_count": 50,
   "metadata": {},
   "outputs": [],
   "source": [
    "# write your answer here"
   ]
  },
  {
   "cell_type": "markdown",
   "metadata": {},
   "source": [
    "**Question 2:** Compute the barycentric coordinates of the point $y$ with respect to the triangles $ABC$ and $CDA$. Which triangle is $y$ located inside?"
   ]
  },
  {
   "cell_type": "code",
   "execution_count": 51,
   "metadata": {},
   "outputs": [],
   "source": [
    "# write your answer here"
   ]
  },
  {
   "cell_type": "markdown",
   "metadata": {},
   "source": [
    "Now consider the function:\n",
    "$$\n",
    "f(x_1,x_2) = x_1 \\cdot x_2\n",
    "$$"
   ]
  },
  {
   "cell_type": "code",
   "execution_count": 52,
   "metadata": {},
   "outputs": [],
   "source": [
    "f = lambda x: x[0]*x[1]\n",
    "F = np.array([f(x) for x in X])"
   ]
  },
  {
   "cell_type": "markdown",
   "metadata": {},
   "source": [
    "**Question 3:** Compute the approximation of $f(y)$ using the full algorithm. Compare with the true value."
   ]
  },
  {
   "cell_type": "code",
   "execution_count": 53,
   "metadata": {},
   "outputs": [],
   "source": [
    "# write your answer here"
   ]
  },
  {
   "cell_type": "markdown",
   "metadata": {},
   "source": [
    "**Question 4:** Repeat question 3 for all points in the set $Y$."
   ]
  },
  {
   "cell_type": "code",
   "execution_count": 54,
   "metadata": {},
   "outputs": [],
   "source": [
    "Y = [(0.2,0.2),(0.8,0.2),(0.8,0.8),(0.8,0.2),(0.5,0.5)]"
   ]
  },
  {
   "cell_type": "code",
   "execution_count": 55,
   "metadata": {},
   "outputs": [],
   "source": [
    "# write your answer here"
   ]
  }
 ],
 "metadata": {
  "kernelspec": {
   "display_name": "base",
   "language": "python",
   "name": "python3"
  },
  "language_info": {
   "codemirror_mode": {
    "name": "ipython",
    "version": 3
   },
   "file_extension": ".py",
   "mimetype": "text/x-python",
   "name": "python",
   "nbconvert_exporter": "python",
   "pygments_lexer": "ipython3",
   "version": "3.11.5"
  }
 },
 "nbformat": 4,
 "nbformat_minor": 2
}
